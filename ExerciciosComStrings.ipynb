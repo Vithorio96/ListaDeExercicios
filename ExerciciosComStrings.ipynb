{
  "nbformat": 4,
  "nbformat_minor": 0,
  "metadata": {
    "colab": {
      "provenance": [],
      "authorship_tag": "ABX9TyOI1nStBhn2/iImjvHF41Ra"
    },
    "kernelspec": {
      "name": "python3",
      "display_name": "Python 3"
    },
    "language_info": {
      "name": "python"
    }
  },
  "cells": [
    {
      "cell_type": "markdown",
      "source": [
        "**3. Nome na vertical. Faça um programa que solicite o nome do usuário e imprima-o na vertical.**\n",
        "```\n",
        "F\n",
        "U\n",
        "L\n",
        "A\n",
        "N\n",
        "O\n",
        "```"
      ],
      "metadata": {
        "id": "KQDBphn1bBmK"
      }
    },
    {
      "cell_type": "code",
      "source": [
        "vertical = input(\"Palavra: \")\n",
        "for letra in vertical:\n",
        "    print(letra)\n"
      ],
      "metadata": {
        "colab": {
          "base_uri": "https://localhost:8080/"
        },
        "id": "qtyv67qxc0ui",
        "outputId": "81f6e0ac-fbb1-4d3c-c2e8-9eaa64257022"
      },
      "execution_count": null,
      "outputs": [
        {
          "output_type": "stream",
          "name": "stdout",
          "text": [
            "Palavra: palavra\n",
            "p\n",
            "a\n",
            "l\n",
            "a\n",
            "v\n",
            "r\n",
            "a\n"
          ]
        }
      ]
    },
    {
      "cell_type": "markdown",
      "source": [
        "**6. Data por extenso. Faça um programa que solicite a data de nascimento (dd/mm/aaaa) do usuário e imprima a data com o nome do mês por extenso.**\n",
        "```\n",
        "Data de Nascimento: 29/10/1973\n",
        "Você nasceu em  29 de Outubro de 1973.\n",
        "```"
      ],
      "metadata": {
        "id": "zLtxfjTcbIT6"
      }
    },
    {
      "cell_type": "code",
      "source": [
        "Dia = (input(\"Dia de Nascimento: \"))\n",
        "Mes = (input(\"Mês de Nascimento: \"))\n",
        "Ano = (input(\"Ano de Nascimento: \"))\n",
        "if Mes == '01':\n",
        "    Mes = 'Janeiro'\n",
        "elif Mes == '02':\n",
        "    Mes = 'Fevereiro'\n",
        "elif Mes == '03':\n",
        "    Mes = 'Março'\n",
        "elif Mes == '04':\n",
        "    Mes = 'Abril'\n",
        "elif Mes == '05':\n",
        "    Mes = 'Maio'\n",
        "elif Mes == '06':\n",
        "    Mes = 'Junho'\n",
        "elif Mes == '07':\n",
        "    Mes = 'Julho'\n",
        "elif Mes == '08':\n",
        "    Mes = 'Agosto'\n",
        "elif Mes == '09':\n",
        "    Mes = 'Setembro'\n",
        "elif Mes == '10':\n",
        "    Mes = 'Outubro'\n",
        "elif Mes == '11':\n",
        "    Mes = 'Novembro'\n",
        "elif Mes == '12':\n",
        "    Mes = 'Dezembro'\n",
        "print(f\"Você nasceu em {Dia} de {Mes} de {Ano}\")"
      ],
      "metadata": {
        "colab": {
          "base_uri": "https://localhost:8080/"
        },
        "id": "eL-KCFB_iKwI",
        "outputId": "353be155-f21d-4d9e-ae78-7d27c2773c78"
      },
      "execution_count": null,
      "outputs": [
        {
          "output_type": "stream",
          "name": "stdout",
          "text": [
            "Dia de Nascimento: 24\n",
            "Mês de Nascimento: 08\n",
            "Ano de Nascimento: 2021\n",
            "Você nasceu em 24 de Agosto de 2021\n"
          ]
        }
      ]
    }
  ]
}