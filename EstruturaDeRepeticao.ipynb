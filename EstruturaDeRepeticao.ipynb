{
  "cells": [
    {
      "cell_type": "markdown",
      "metadata": {
        "id": "xEmDqXuyE3qs"
      },
      "source": [
        "# EstruturaDeRepeticao\n"
      ]
    },
    {
      "cell_type": "markdown",
      "metadata": {
        "id": "bsP2fGlDF7-W"
      },
      "source": [
        "**1. Faça um programa que peça uma nota, entre zero e dez. Mostre uma mensagem caso o valor seja inválido e continue pedindo até que o usuário informe um valor válido.**"
      ]
    },
    {
      "cell_type": "code",
      "execution_count": null,
      "metadata": {
        "colab": {
          "base_uri": "https://localhost:8080/"
        },
        "id": "TGNMmtHwJVi4",
        "outputId": "65a5de3b-14f0-4896-f65e-2628b3dfcf5f"
      },
      "outputs": [
        {
          "name": "stdout",
          "output_type": "stream",
          "text": [
            "Nota: -1\n",
            "Nota inválida\n",
            "Nota: 11\n",
            "Nota inválida\n",
            "Nota: 5\n"
          ]
        }
      ],
      "source": [
        "nota = int(input('Nota: '))\n",
        "while nota < 0 or nota > 10:\n",
        "    print('Nota inválida')\n",
        "    nota = int(input('Nota: '))"
      ]
    },
    {
      "cell_type": "markdown",
      "metadata": {
        "id": "1ZXTfbzVF8Fy"
      },
      "source": [
        "**10. Faça um programa que receba dois números inteiros e gere os números inteiros que estão no intervalo compreendido por eles.**"
      ]
    },
    {
      "cell_type": "code",
      "execution_count": null,
      "metadata": {
        "colab": {
          "base_uri": "https://localhost:8080/"
        },
        "id": "iieqmGPvJXvo",
        "outputId": "b9953177-7960-4612-8a64-ca89cc529595"
      },
      "outputs": [
        {
          "name": "stdout",
          "output_type": "stream",
          "text": [
            "Digite um número inteiro: 10\n",
            "Digite outro número inteiro: 5\n",
            "5\n",
            "6\n",
            "7\n",
            "8\n",
            "9\n",
            "10\n"
          ]
        }
      ],
      "source": [
        "input1 = int(input('Digite um número inteiro: '))\n",
        "input2 = int(input('Digite outro número inteiro: '))\n",
        "#Se 1 <2\n",
        "if input1 < input2:\n",
        "  menor = input1\n",
        "  maior = input2\n",
        "#Se 2<1\n",
        "else:\n",
        "  menor = input2\n",
        "  maior = input1\n",
        "for i in range (menor, maior+1):\n",
        "  print(i)\n"
      ]
    },
    {
      "cell_type": "markdown",
      "metadata": {
        "id": "fpys8LqiOnLW"
      },
      "source": [
        "**17. Faça um programa que calcule o fatorial de um número inteiro fornecido pelo usuário. Ex.: 5!=5.4.3.2.1=120**"
      ]
    },
    {
      "cell_type": "code",
      "execution_count": null,
      "metadata": {
        "colab": {
          "base_uri": "https://localhost:8080/"
        },
        "id": "N-Qh9oROOunW",
        "outputId": "214b64bf-3c7a-4501-8478-092a32595065"
      },
      "outputs": [
        {
          "name": "stdout",
          "output_type": "stream",
          "text": [
            "Fatorial: -1\n",
            "Fatorial inválido\n",
            "Fatorial: -1\n",
            "Fatorial inválido\n",
            "Fatorial: -50\n",
            "Fatorial inválido\n",
            "Fatorial: 5\n",
            "120\n"
          ]
        }
      ],
      "source": [
        "fatorial = int(input('Fatorial: '))\n",
        "# Fatorial 5 = 5*4*3*2*1\n",
        "if fatorial == 0 or fatorial == 1:\n",
        "  print('1')\n",
        "while fatorial <0:\n",
        "  print('Fatorial inválido')\n",
        "  fatorial = int(input('Fatorial: '))\n",
        "else:\n",
        "  resultado = 1\n",
        "  for i in range(1, fatorial+1):\n",
        "    resultado = resultado * i\n",
        "  print(resultado)"
      ]
    },
    {
      "cell_type": "markdown",
      "metadata": {
        "id": "7sp3YbD6F8JE"
      },
      "source": [
        "**20. Altere o programa de cálculo do fatorial, permitindo ao usuário calcular o fatorial várias vezes e limitando o fatorial a números inteiros positivos e menores que 16.**"
      ]
    },
    {
      "cell_type": "code",
      "execution_count": null,
      "metadata": {
        "colab": {
          "background_save": true,
          "base_uri": "https://localhost:8080/"
        },
        "id": "F-XhcA1YS3P2",
        "outputId": "e1a7e643-d1dc-48e9-9081-b205595ace9e"
      },
      "outputs": [
        {
          "name": "stdout",
          "output_type": "stream",
          "text": [
            "Fatorial inválido\n",
            "Fatorial inválido\n",
            "20922789888000\n",
            "120\n"
          ]
        }
      ],
      "source": [
        "while True:\n",
        "    fatorial = int(input('Fatorial < 16: '))\n",
        "    # Fatorial 5 = 5*4*3*2*1\n",
        "    if fatorial == 0 or fatorial == 1:\n",
        "        print('1')\n",
        "    elif fatorial < 0 or fatorial > 16:\n",
        "        print('Fatorial inválido')\n",
        "    else:\n",
        "        resultado = 1\n",
        "        for i in range(1, fatorial + 1):\n",
        "            resultado = resultado * i\n",
        "        print(resultado)"
      ]
    },
    {
      "cell_type": "markdown",
      "metadata": {
        "id": "__GgtEXBF8VK"
      },
      "source": [
        "**3O.  Sr. Manoel Joaquim acaba de adquirir uma panificadora e pretende implantar a metodologia da tabelinha, que já é um sucesso na sua loja de 1,99. Você foi contratado para desenvolver o programa que monta a tabela de preços de pães, de 1 até 50 pães, a partir do preço do pão informado pelo usuário, conforme o exemplo abaixo:**\n",
        "\n",
        "``Preço do pão: R$ 0.18``\n",
        "\n",
        "``Panificadora Pão de Ontem - Tabela de preços``\n",
        "\n",
        "``1 - R$ 0.18``\n",
        "\n",
        "``2 - R$ 0.36``\n",
        "\n",
        "``...``\n",
        "\n",
        "``50 - R$ 9.00``\n"
      ]
    },
    {
      "cell_type": "code",
      "source": [
        "pão = int(input('Número de pães: '))\n",
        "\n",
        "while pão < 1 or pão > 50:\n",
        "  print('Número inválido ou em falta.')\n",
        "  pão = int(input('Número de pães: '))\n",
        "print('Custo total: R$', pão * 0.18)"
      ],
      "metadata": {
        "colab": {
          "base_uri": "https://localhost:8080/"
        },
        "id": "QTRR07ujv_BF",
        "outputId": "eed62d8f-7b84-4359-ba01-d782d16b6821"
      },
      "execution_count": null,
      "outputs": [
        {
          "output_type": "stream",
          "name": "stdout",
          "text": [
            "Número de pães: -1\n",
            "Número inválido ou em falta.\n",
            "Número de pães: 51\n",
            "Número inválido ou em falta.\n",
            "Número de pães: 50\n",
            "Custo total: R$ 9.0\n"
          ]
        }
      ]
    },
    {
      "cell_type": "markdown",
      "metadata": {
        "id": "fYsFGKM8F8mn"
      },
      "source": [
        "36. Desenvolva um programa que faça a tabuada de um número qualquer inteiro que será digitado pelo usuário, mas a tabuada não deve necessariamente iniciar em 1 e terminar em 10, o valor inicial e final devem ser informados também pelo usuário, conforme exemplo abaixo:\n",
        "\n",
        "Montar a tabuada de: 5\n",
        "\n",
        "Começar por: 4\n",
        "\n",
        "Terminar em: 7\n",
        "\n",
        "\n",
        "Vou montar a tabuada de 5 começando em 4 e terminando em 7:\n",
        "\n",
        "5 X 4 = 20\n",
        "\n",
        "5 X 5 = 25\n",
        "\n",
        "5 X 6 = 30\n",
        "\n",
        "5 X 7 = 35\n"
      ]
    },
    {
      "cell_type": "code",
      "source": [
        "tabuada= int(input('Escolha a tabuada de um numero: '))\n",
        "if tabuada < 1 or tabuada > 10:\n",
        "  print('Número inválido')\n",
        "começar = int(input('Começar por: '))\n",
        "if começar < 1 or começar > 10:\n",
        "  print('Número inválido')\n",
        "terminar = int(input('Terminar em: '))\n",
        "if terminar < 1 or terminar > 10:\n",
        "  print('Número inválido')\n",
        "else:\n",
        "  print('Vou montar a tabuada de', tabuada, 'começando em', começar, 'e terminando em', terminar)\n",
        "  for i in range(começar, terminar+1):\n",
        "    print(tabuada, 'X', i, '=', tabuada*i)"
      ],
      "metadata": {
        "colab": {
          "base_uri": "https://localhost:8080/"
        },
        "id": "IPYRHjUZ9gYM",
        "outputId": "7fd0fb9e-403f-4e77-cd31-1b32e1e736c0"
      },
      "execution_count": null,
      "outputs": [
        {
          "output_type": "stream",
          "name": "stdout",
          "text": [
            "Escolha a tabuada de um numero: 8\n",
            "Começar por: 2\n",
            "Terminar em: 7\n",
            "Vou montar a tabuada de 8 começando em 2 e terminando em 7\n",
            "8 X 2 = 16\n",
            "8 X 3 = 24\n",
            "8 X 4 = 32\n",
            "8 X 5 = 40\n",
            "8 X 6 = 48\n",
            "8 X 7 = 56\n"
          ]
        }
      ]
    },
    {
      "cell_type": "code",
      "source": [],
      "metadata": {
        "id": "wQAYEcQM94ep"
      },
      "execution_count": null,
      "outputs": []
    }
  ],
  "metadata": {
    "colab": {
      "provenance": [],
      "authorship_tag": "ABX9TyNJXPDh1xhd42RJdm3G4NyP"
    },
    "kernelspec": {
      "display_name": "Python 3",
      "name": "python3"
    },
    "language_info": {
      "name": "python"
    }
  },
  "nbformat": 4,
  "nbformat_minor": 0
}