{
  "nbformat": 4,
  "nbformat_minor": 0,
  "metadata": {
    "colab": {
      "provenance": [],
      "authorship_tag": "ABX9TyMg42ShLzCS1bblRx7mVBYI"
    },
    "kernelspec": {
      "name": "python3",
      "display_name": "Python 3"
    },
    "language_info": {
      "name": "python"
    }
  },
  "cells": [
    {
      "cell_type": "markdown",
      "source": [
        "Estrutura De Decisao\n",
        "\n",
        "Vithorio Dutra\n",
        "\n"
      ],
      "metadata": {
        "id": "npLYOF-hYWBe"
      }
    },
    {
      "cell_type": "markdown",
      "source": [
        "**1. Faça um Programa que peça dois números e imprima o maior deles.**\n"
      ],
      "metadata": {
        "id": "LApd7z3CByE2"
      }
    },
    {
      "cell_type": "code",
      "source": [
        "numero1 = float(input(\"Digite um número: \"))\n",
        "numero2 = float(input(\"Digite outro número:\"))\n",
        "if numero1 > numero2:\n",
        "  print(\"O número maior é o : \", numero1)\n",
        "else:\n",
        "  print(\"O número maior é o : \", numero2)"
      ],
      "metadata": {
        "colab": {
          "base_uri": "https://localhost:8080/"
        },
        "id": "mHVfdWmqZAFm",
        "outputId": "24f8ada6-bec7-4b7d-a0bc-8600a912e5ab"
      },
      "execution_count": null,
      "outputs": [
        {
          "output_type": "stream",
          "name": "stdout",
          "text": [
            "Digite um número: 5.11111111112\n",
            "Digite outro número:5.11111111113\n",
            "O número maior é o :  5.11111111113\n"
          ]
        }
      ]
    },
    {
      "cell_type": "markdown",
      "source": [
        "**2. Faça um Programa que peça um valor e mostre na tela se o valor é positivo ou negativo.**"
      ],
      "metadata": {
        "id": "wp9EVw_tB5b2"
      }
    },
    {
      "cell_type": "code",
      "source": [
        "valor= float(input('Digite um valor: '))\n",
        "if valor > 0:\n",
        "  print('O valor é positivo')\n",
        "else:\n",
        "  print('O valor é negativo')"
      ],
      "metadata": {
        "colab": {
          "base_uri": "https://localhost:8080/"
        },
        "id": "bzOaXEOdB8Wc",
        "outputId": "5d27f43d-fa07-470d-8ca1-a3cb40f8996c"
      },
      "execution_count": null,
      "outputs": [
        {
          "output_type": "stream",
          "name": "stdout",
          "text": [
            "Digite um valor: -1\n",
            "O valor é negativo\n"
          ]
        }
      ]
    },
    {
      "cell_type": "markdown",
      "source": [
        "**3. Faça um Programa que verifique se uma letra digitada é \"F\" ou \"M\". Conforme a letra escrever: F - Feminino, M - Masculino, Sexo Inválido.**"
      ],
      "metadata": {
        "id": "GyXwFzZLB8__"
      }
    },
    {
      "cell_type": "code",
      "source": [
        "Letra = input('Digite F ou M: ')\n",
        "if Letra == 'F':\n",
        "  print('Feminino')\n",
        "elif Letra == 'M':\n",
        "  print('Masculino')\n",
        "else:\n",
        "  print('Sexo Inválido')\n"
      ],
      "metadata": {
        "colab": {
          "base_uri": "https://localhost:8080/"
        },
        "id": "dVTM0gF0CAPO",
        "outputId": "35d50ac9-5227-45f6-92a0-d0b5e3c52e46"
      },
      "execution_count": null,
      "outputs": [
        {
          "output_type": "stream",
          "name": "stdout",
          "text": [
            "Digite F ou M: M\n",
            "Masculino\n"
          ]
        }
      ]
    },
    {
      "cell_type": "code",
      "source": [
        "Letra = input('Digite F ou M: ')\n",
        "if Letra == 'F':\n",
        "  print('Feminino')\n",
        "elif Letra == 'M':\n",
        "  print('Masculino')\n",
        "else:\n",
        "  print('Sexo Inválido')\n"
      ],
      "metadata": {
        "colab": {
          "base_uri": "https://localhost:8080/"
        },
        "id": "y9kTMimJawD4",
        "outputId": "47b6f987-59c0-4dbe-a5d6-04c3448bb0de"
      },
      "execution_count": null,
      "outputs": [
        {
          "output_type": "stream",
          "name": "stdout",
          "text": [
            "Digite F ou M: Q\n",
            "Sexo Inválido\n"
          ]
        }
      ]
    },
    {
      "cell_type": "markdown",
      "source": [
        "**4. Faça um Programa que verifique se uma letra digitada é vogal ou consoante.**\n"
      ],
      "metadata": {
        "id": "xr_UjIq7CAlm"
      }
    },
    {
      "cell_type": "code",
      "source": [
        "x = input('Digite uma letra: ')\n",
        "\n",
        "if x == 'a' or x == 'e' or x == 'i' or x == 'o' or x == 'u':\n",
        "    print('É vogal')\n",
        "elif x == 'b' or x == 'c' or x == 'd' or x == 'f' or x == 'g' or x == 'h' or x == 'j' or x == 'k' or x == 'l' or x == 'm' or x == 'n' or x == 'p' or x == 'q' or x == 'r' or x == 's' or x == 't' or x == 'v' or x == 'w' or x == 'x' or x == 'y' or x == 'z':\n",
        "    print('É consoante')\n",
        "else:\n",
        "    print('Não é uma letra válida')"
      ],
      "metadata": {
        "colab": {
          "base_uri": "https://localhost:8080/"
        },
        "id": "XfashR5Wc9sb",
        "outputId": "a47e2473-24f9-4e1e-838b-b131e1f3d868"
      },
      "execution_count": null,
      "outputs": [
        {
          "output_type": "stream",
          "name": "stdout",
          "text": [
            "Digite uma letra: p\n",
            "É consoante\n"
          ]
        }
      ]
    },
    {
      "cell_type": "markdown",
      "source": [
        "**5. Faça um programa para a leitura de duas notas parciais de um aluno. O programa deve calcular a média alcançada por aluno e apresentar:**\n",
        "- A mensagem \"Aprovado\", se a média alcançada for maior ou igual a sete;\n",
        "- A mensagem \"Reprovado\", se a média for menor do que sete;\n",
        "- A mensagem \"Aprovado com Distinção\", se a média for igual a dez."
      ],
      "metadata": {
        "id": "WAaxEjWqCEQm"
      }
    },
    {
      "cell_type": "code",
      "source": [
        "Nota1 = float(input('Nota 1: '))\n",
        "Nota2 = float(input('Nota 2: '))\n",
        "Média = (Nota1 + Nota2)/2\n",
        "if Média >= 7:\n",
        "  print('Aprovado')\n",
        "elif Média < 7:\n",
        "  print('Reprovado')\n",
        "elif Média == 10:\n",
        "  print('Aprovado com Distinção')"
      ],
      "metadata": {
        "colab": {
          "base_uri": "https://localhost:8080/"
        },
        "id": "85ZWkhlAiChH",
        "outputId": "8097d842-2b39-4519-924d-a1eea088569c"
      },
      "execution_count": null,
      "outputs": [
        {
          "output_type": "stream",
          "name": "stdout",
          "text": [
            "Nota 1: 10.0\n",
            "Nota 2: 10.0\n",
            "Aprovado\n"
          ]
        }
      ]
    },
    {
      "cell_type": "markdown",
      "source": [
        "**6. Faça um Programa que leia três números e mostre o maior deles.**\n"
      ],
      "metadata": {
        "id": "Jm2EqOc5IhVW"
      }
    },
    {
      "cell_type": "code",
      "source": [
        "Numb1= int(input('Numero 1: '))\n",
        "Numb2= int(input('Numero 2: '))\n",
        "Numb3= int(input('Numero 3: '))\n",
        "\n",
        "# 1> 2 ou 3\n",
        "# 2> 1 ou 3\n",
        "# 3> 1 ou 2\n",
        "\n",
        "if Numb1>Numb2 and Numb1>Numb3:\n",
        "  print('O maior número é: ', Numb1)\n",
        "elif Numb2>Numb1 and Numb2>Numb3:\n",
        "  print('O maior número é: ', Numb2)\n",
        "elif Numb3>Numb1 and Numb3>Numb2:\n",
        "  print('O maior número é: ', Numb3)"
      ],
      "metadata": {
        "colab": {
          "base_uri": "https://localhost:8080/"
        },
        "id": "u9PgfrpYIkfK",
        "outputId": "58a76578-7c6b-4239-f861-5aef6a0e03fb"
      },
      "execution_count": null,
      "outputs": [
        {
          "output_type": "stream",
          "name": "stdout",
          "text": [
            "Numero 1: 1\n",
            "Numero 2: 2\n",
            "Numero 3: 3\n",
            "O maior número é:  3\n"
          ]
        }
      ]
    },
    {
      "cell_type": "markdown",
      "source": [
        "**7. Faça um Programa que leia três números e mostre o maior e o menor deles.**\n"
      ],
      "metadata": {
        "id": "RSS_gLeZIkz_"
      }
    },
    {
      "cell_type": "code",
      "source": [
        "Numb1= int(input('Numero 1: '))\n",
        "Numb2= int(input('Numero 2: '))\n",
        "Numb3= int(input('Numero 3: '))\n",
        "\n",
        "# 1> 2 ou 3\n",
        "# 2> 1 ou 3\n",
        "# 3> 1 ou 2\n",
        "# Print o Maior\n",
        "if Numb1>Numb2 and Numb1>Numb3:\n",
        "  print('O maior número é: ', Numb1)\n",
        "elif Numb2>Numb1 and Numb2>Numb3:\n",
        "  print('O maior número é: ', Numb2)\n",
        "elif Numb3>Numb1 and Numb3>Numb2:\n",
        "  print('O maior número é: ', Numb3)\n",
        "# Print o Menor\n",
        "if Numb1<Numb2 and Numb1<Numb3:\n",
        "  print('O menor número é: ', Numb1)\n",
        "elif Numb2<Numb1 and Numb2<Numb3:\n",
        "  print('O menor número é: ', Numb2)\n",
        "elif Numb3<Numb1 and Numb3<Numb2:\n",
        "  print('O menor número é: ', Numb3)"
      ],
      "metadata": {
        "colab": {
          "base_uri": "https://localhost:8080/"
        },
        "id": "hwr7qPE5IsNt",
        "outputId": "190ef99c-2897-4a93-b29c-f3908ca8a727"
      },
      "execution_count": null,
      "outputs": [
        {
          "output_type": "stream",
          "name": "stdout",
          "text": [
            "Numero 1: 1\n",
            "Numero 2: 2\n",
            "Numero 3: 3\n",
            "O maior número é:  3\n",
            "O menor número é:  1\n"
          ]
        }
      ]
    },
    {
      "cell_type": "markdown",
      "source": [
        "**8. Faça um programa que pergunte o preço de três produtos e informe qual produto você deve comprar, sabendo que a decisão é sempre pelo mais barato.**\n"
      ],
      "metadata": {
        "id": "pPYk56gGIsjf"
      }
    },
    {
      "cell_type": "code",
      "source": [
        "Prod1 = float(input('Preço do produto 1: '))\n",
        "Prod2 = float(input('Preço do produto 2: '))\n",
        "Prod3 = float(input('Preço do produto 3: '))\n",
        "\n",
        "if Prod1 < Prod2 and Prod1 < Prod3:\n",
        "  print('O produto mais barato é o: ', Prod1)\n",
        "elif Prod2 < Prod1 and Prod2 < Prod3:\n",
        "  print('O produto mais barato é o: ', Prod2)\n",
        "elif Prod3 < Prod1 and Prod3 < Prod2:\n",
        "  print('O produto mais barato é o: ', Prod3)"
      ],
      "metadata": {
        "colab": {
          "base_uri": "https://localhost:8080/"
        },
        "id": "ljHTfzTvIvke",
        "outputId": "f4fbb608-cfae-4b66-d59e-bfe734688bb5"
      },
      "execution_count": null,
      "outputs": [
        {
          "output_type": "stream",
          "name": "stdout",
          "text": [
            "Preço do produto 1: 1.99\n",
            "Preço do produto 2: 2.99\n",
            "Preço do produto 3: 1.50\n",
            "O produto mais barato é o:  1.5\n"
          ]
        }
      ]
    },
    {
      "cell_type": "markdown",
      "source": [
        "**9. Faça um Programa que leia três números e mostre-os em ordem decrescente.**\n",
        "\n",
        "\n",
        "> Adicionar aspas\n",
        "\n"
      ],
      "metadata": {
        "id": "5A7WVeKFIwL3"
      }
    },
    {
      "cell_type": "code",
      "source": [
        "Valor1 = int(input(\"Digite o primeiro número: \"))\n",
        "Valor2 = int(input(\"Digite o segundo número: \"))\n",
        "Valor3 = int(input(\"Digite o terceiro número: \"))\n",
        "Valores = [Valor1, Valor2, Valor3]\n",
        "Valores.sort(reverse=True)\n",
        "print(Valores)"
      ],
      "metadata": {
        "colab": {
          "base_uri": "https://localhost:8080/"
        },
        "id": "oYW3wl0VpD3C",
        "outputId": "d684f29d-3150-4d0d-d816-572ddfa72c75"
      },
      "execution_count": null,
      "outputs": [
        {
          "output_type": "stream",
          "name": "stdout",
          "text": [
            "Digite o primeiro número: 2\n",
            "Digite o segundo número: 1\n",
            "Digite o terceiro número: 9\n",
            "[9, 2, 1]\n"
          ]
        }
      ]
    },
    {
      "cell_type": "markdown",
      "source": [
        "**10. Faça um Programa que pergunte em que turno você estuda. Peça para digitar M-matutino ou V-Vespertino ou N- Noturno. Imprima a mensagem \"Bom Dia!\", \"Boa Tarde!\" ou \"Boa Noite!\" ou \"Valor Inválido!\", conforme o caso.**\n"
      ],
      "metadata": {
        "id": "cjcMx1AQIzfQ"
      }
    },
    {
      "cell_type": "code",
      "source": [
        "Ask = input('Em que turno você estuda. M-matutino ou V-Vespertino ou N- Noturno: ')\n",
        "if Ask == 'M':\n",
        "  print('Bom Dia!')\n",
        "elif Ask == 'V':\n",
        "  print('Boa Tarde!')\n",
        "elif Ask == 'N':\n",
        "  print('Boa Noite')\n",
        "else:\n",
        "  print('Valor Inválido!')"
      ],
      "metadata": {
        "colab": {
          "base_uri": "https://localhost:8080/"
        },
        "id": "Tut7jbzqI2gU",
        "outputId": "9580a974-aea8-4930-e118-7af26296983f"
      },
      "execution_count": null,
      "outputs": [
        {
          "output_type": "stream",
          "name": "stdout",
          "text": [
            "Em que turno você estuda. M-matutino ou V-Vespertino ou N- Noturno: N\n",
            "Boa Noite\n"
          ]
        }
      ]
    },
    {
      "cell_type": "markdown",
      "source": [
        "**11. As Organizações Tabajara resolveram dar um aumento de salário aos seus colaboradores e lhe contraram para desenvolver o programa que calculará os reajustes.**\n",
        "\n",
        "**Faça um programa que recebe o salário de um colaborador e o reajuste segundo o seguinte critério, baseado no salário atual:**\n",
        "\n",
        "- salários até `R$ 280,00 `(incluindo) : aumento de 20%\n",
        "\n",
        "- salários entre `R$ 280,00` e `R$ 700,00` : aumento de 15%\n",
        "\n",
        "- salários entre `R$ 700,00` e `R$ 1500,00` : aumento de 10%\n",
        "\n",
        "- salários de `R$ 1500,00` em diante : aumento de 5% Após o aumento ser realizado, informe na tela:\n",
        "\n",
        "- o salário antes do reajuste;\n",
        "\n",
        "- o percentual de aumento aplicado;\n",
        "\n",
        "- o valor do aumento;\n",
        "\n",
        "- o novo salário, após o aumento."
      ],
      "metadata": {
        "id": "9QOFmy7gI26n"
      }
    },
    {
      "cell_type": "code",
      "source": [
        "Sálario = float(input('Digite seu salário: '))\n",
        "if Sálario <= 280:\n",
        "  Percentual = 20\n",
        "elif Sálario > 280 and Sálario <= 700:\n",
        "  Percentual = 15\n",
        "elif Sálario > 700 and Sálario <= 1500:\n",
        "  Percentual = 10\n",
        "elif Sálario > 1500:\n",
        "  Percentual = 5\n",
        "\n",
        "Aumento = Sálario * Percentual / 100\n",
        "Novo_Sálario = Sálario + Aumento\n",
        "\n",
        "print('Salário antes do reajuste: R$', Sálario)\n",
        "print('Percentual de aumento aplicado: {}%'.format(Percentual))\n",
        "print('Valor do aumento: R$', Aumento)\n",
        "print('Novo salário, após o aumento: R$', Novo_Sálario)"
      ],
      "metadata": {
        "colab": {
          "base_uri": "https://localhost:8080/"
        },
        "id": "_xoRwP5fJEzz",
        "outputId": "14978dc0-9ba9-4dfe-bfe6-8ab9a7e5b4e9"
      },
      "execution_count": null,
      "outputs": [
        {
          "output_type": "stream",
          "name": "stdout",
          "text": [
            "Digite seu salário: 2200\n",
            "Salário antes do reajuste: R$ 2200.0\n",
            "Percentual de aumento aplicado: 5%\n",
            "Valor do aumento: R$ 110.0\n",
            "Novo salário, após o aumento: R$ 2310.0\n"
          ]
        }
      ]
    },
    {
      "cell_type": "markdown",
      "source": [
        "**12. Faça um programa para o cálculo de uma folha de pagamento, sabendo que os descontos são do Imposto de Renda, que depende do salário bruto (conforme tabela abaixo) e 3% para o Sindicato e que o FGTS corresponde a 11% do Salário Bruto, mas não é descontado (é a empresa que deposita). O Salário Líquido corresponde ao Salário Bruto menos os descontos. O programa deverá pedir ao usuário o valor da sua hora e a quantidade de horas trabalhadas no mês.**\n",
        "\n",
        "Desconto do IR:\n",
        "\n",
        "- Salário Bruto até 900 (inclusive) - isento\n",
        "\n",
        "- Salário Bruto até 1500 (inclusive) - desconto de 5%\n",
        "\n",
        "- Salário Bruto até 2500 (inclusive) - desconto de 10%\n",
        "\n",
        "- Salário Bruto acima de 2500 - desconto de 20% Imprima na tela as informações, dispostas conforme o exemplo abaixo. No exemplo o valor da hora é 5 e a quantidade de hora é 220.\n",
        "\n",
        "\n",
        "![image.png](data:image/png;base64,iVBORw0KGgoAAAANSUhEUgAAAZ0AAAEVCAYAAAA7PDgXAAAAAXNSR0IArs4c6QAAAARnQU1BAACxjwv8YQUAAAAJcEhZcwAADsMAAA7DAcdvqGQAACRsSURBVHhe7d09axvN2sDx6zxfIGAId4ogkVa4C0QQkF24scsU6wSiOqgRgYNcxB/AKSwCwY1xLYPjLVI6jYrYEHAgnVFrJFLkJmDIJzjPzGp2tW+SRqvVWo7/v8PeRy+TXUm7O9fMteOd//xPEQAACvB/5v8BAFg4gg4AoDAEHQBAYQg6AIDCEHQAAIWJjF778+ePeQQAQHYPHjwwj6Lo6QAACkPQAQAUhqADACgMQefOuZGzd7ty9ts8zah3tCG7X27MMwDI6OpwprqEoLMEbr7sysbGhrdM23m9I0f6r/dk66F5AXeGDvSHV+aJEd73/hIvM5ueHL47U02TOfw+k93g84xp4NiU8RpIk8v0juZvQOH26GN6460rl/uOt59tgg+j1+aiTypH2t/N02ctaT25EHmRMSjoFsPPbdnbXDEvROkKqi2tse8vFV0pvWrLpXk64shBtyEV8yxXU36/W6V/jw8irfdbEv50ep+ePt6Txqp5YW466PRlO7Yde+rfb3SkfOIfw/Hnmk0Z9aqqkM6fd81302XOZS2+78f8Lrg9er81P5kngaq0Yvs3UR/Fzj9Gry3AsNfRlW7XLK/70k7srPysbO7djYCjPdySve6BOCoQu/7vo5ePIs2jnil0f/Q+t6X0enEVq64A4q3MtJ7VNDdfOiIfw5VLRbZ3RPr/mqeKTRkdTM5LbiiYVqSh9n0n3hJ+WJWaXMglvZ2lUXnTFXenKs7H0Hl7ovbSq0PVdBj5NRCpPQ0d0asNq/qJoJPZjfSvzUOf+tEPXprHhtf9DNIQaslY4U5fzyiV4VU+qtURlA2lW8LpnPFd4XBaRC/5pkCqpUfmkRJ8Tn1AR7frVZjm/dFn1S3m0Pse81qomz9cUj53+HfRy5j94f9ONumC6Xpy/smRtTG9Gfdt6PNkTI3pBkl9oL97U9zvbXHUujqRSt+OXk/039zI5VeR8j/mqWJTRv7ti6qTov4piwx+mSe+Famui1z8yON3hpbvsWuoRmT95UD6ofOp8kIFog+zH68EncxWZOu9K+XjUIWhKk55E+2CPnp+EGnpu6VOpoNh+nr051HvfXSGFe9xeVQ+lLrQFYb3miqXTlfgsR5cty79VxkDj6kAg99Ifa5WuDWkAnW360rrmSvN2Ha9ik2/H/msqsWs3tMtsZHha7pcdccN/n23m0wHRH4XtejfMWtDwNpvVQE/K0so1AaC/eEvqrfsZPw8j0rqN3l5oFqlLamq/0VaoRnZXEOc9zrjyuOSClqXmYItCqIaa83rmlTD+1hnM/TxGpzfdnUEQWcupqL3K4yTsnTiP/zPTqTSdfaTVzmszLAer+LNmiO/OhdR3epoS1ZV6rp7/TlDZRhPr3kHabSbPqSv9cS3myfVGh/UxI39LrrSP5BO4mTxg0Eu6UzV6rfe66vb0ro+T/l9pvM+85uKSW1mDwJDw17n5N6STRkULa9jN9ID1421tDrFazT657dqnFr0fAg6WekLoPEWqTrZW+HctmodOIN6aKeoZWwPY4K81rMM1EHq7gzkfK4RWnfMP2XV77hD9LFtep1jK65pZdJSaSr4Sji1iqU2uqbjSkvacho5Z3VGJNZ41D1683ASgs48PjUTF2p/DUpB7v7m5yB6/ULvqLeueWwvr/VYWV0TOU62VnqfL6T2Io8xZz053Y/l/6fRFVg4/aKDsE2P0bt+458YK+o3vIidOIqqPDtST/QKcs2LPyxL6Xtf4lczhhV39MTVqar2kzXVt7wd3vd+1Ze6qmz83ot+LXyc25TxrgFIuMemekXHIvWUAOUd3+vVbD1zJOR67Hr8Swnx9JlOiYd6Q/qYsMiwMGQ6K11hfBapXbdHQ6YVndoatfx0+iE0pFoPO9wpSXtfBQyde9epEL2e1KHFw5bG8KS2WI+uYNMCkf++ZrUtJWVd0e9lIdP38iWHZ0aGcT5rycH6hTRV4Jn4e+vUXuQkSNte+hBufeLqwDbz9x5Df/7R8OGQ+O8U3l+FG7c/bPZZ7BjSYt8t8b5Hr68t8t9504HwzXvsxs+14Bwy+1Ni69XbSxv2P27INEEHKII+Yfl7lCR+lzuPoAMsqbG9nXtM35Ggn/WPqbHUCDoAgMJwRwIAwK0j6AAACkPQAQAUhqADACgMQQcAUBiCDgCgMAQdAEBhCDoAgMIQdAAAhSHoAAAKQ9ABABRmTNDRtxvfmDKNr0UZbz4TM9fCuHI2ZWwUuS0AQCaxoGMCiZ4RcF3Ps57Gpoyib1kemo8+Oae/YlPGRpHbAgBkFgs6ozn/G0/NSwk2ZUR6n6OzyK1stqT29TQ6S6JFGRtFbgsAkN2CruncSP/aPAysSPnJQPrBdKc2ZWwUuS0AwDwYSAAAKAxBBwBQmAUFnbTUlU5xlaQcTEtrU8ZGkdsCAMxjYT2dyoua9H+ERoddncrF+rZUzFPNpozHH+r87kyFiqRctwUAWJj//E8xj+XPnz/SO9qQ5ifzQqAqrZM92TK9ApsyWqTcs5a4odFjPvsyjhx0G2ODRF7bAgDM78GDB+ZRVCLoLJ+eHG40ZbDjyt4mIQIA7oJxQWf5BxL87stAHKkTcADgzrsDPR0AwF1zd3s6AIC/BkEHAFAYgg4AoDAEHQBAYQg6AIDCEHQAAIUh6AAACkPQAQAUhqADACgMQQcAkN3Voex+Sbv/fzqCTk5uvuzO9MMHfp/J7lHPPLmr9E1ZD9V/w27k7N3GcEqKYImXGd75e9x7vt7RrpwxrTiwdLzz960rl/uOdx7b1IHcey0XutI9l7UJUy9Monfc+fOuNFbNCxnooOfsX5pnI85Hs149J5E6OOKqOdy9W2+7La3YenTQOZXy+wm/iW4h/dwe/jsVfA9/VKWR9ll0YP4g0mIqCmDhIlPABJJT1yTO+/D5rHDvtQW6+dKRwU72CeEqzx1xv83X21nZ3JNut6uWA3H0XEHe41AgW21I96Ql1ZcHppxeXKl9deTwypTJpCen+6XF3gX8YVVqciGX9HaAhau86Yq7U/UarEFdcaLOwFfRbMSvgUjtaei8V3WMTQOWoDO3G7n8GvvxZ7W6Js6n87HppcVZka3Xjgx+ZkgL+q7OxX25NibgutIMpdcSXW91kNYHw275xqu+rI09YFekui5yEZ75FUA6nRnQ59SYmZYzebgl9ZfRKf/1bMwXH2bfBkFnbr+k/70k5VC30+Pv+JQl2bN4JOVnrpzP1ePIoieHbwdzBcybnwOplh6ZZ2EqoL0PtZTUogNM+Lvr7vmoGx8KUCkny8rjkgrul/mdRADsXR1K87om1XA9pwLR3uu+OEHdZnftlWs689LBRbXS6xmv5wzp6x+O9F/Pd11nSAWSd33ZTrv+4X3Wtoyu/CTztLPS+d9OyfK6kN7+57LsvYn/UsPv3/6uHo6bRlxfkzouM8U4UIDENWKr6f2jdQ/XdBblYVlK5uGdELqm4+6ItD/Pl9R7VKqaR3O4OvUCrve5VMupnWUUIIBcja7puNKStpxGMjEpI1a9WZ6nI+jMTafGornO2ekUnSNrc/dyZqMHH7ilTrah3oaX9hr8Ms9GdEtpIzIUXB2kqpdVep7eH5x2XclL461X6eUA0+R+TUenyl0pH8fTZ9Frtvq6bN0iE0HQmVsOF7knXoy341Xy3s5vivu9HeRZg2soOj2lU2ufmur10cGzstnyRrBlPkDHDILwA1pwQKrPJf7w7bjV7eFn0OWOy9JKpOpyGKwBwIpOmevUmvtWnY9BvaACz3/1CDZ/QFBFGkHGxB/pZneJgWs6udBdzdv9O53blBivnzfdcuPvdIClpM//08d7ifqLazoLVZHtnYF0sqSpVIXakYM7G3C0lc26lPZPE72dvPQ+X0jtvwQcYBnprMYs9Rc9HQBA7ujpAABuHUEHAFAYgg4AoDAEHQBAYQg6AIDCEHQAAIUh6AAACkPQAQAUhqADACgMQQcAUBiCDgCgMMl7r+lb4L91zStD1Z3YzJA2ZWyF16UnGEvMKqnYlAEALI1x915LDTq7P7cnBxCbMjZit6xPvUW+TRkAwFJZyht+9j5HZ5obTigWvUW+TRkAwN2QGnQu980sjt4SmwfbsCkz2Y30r83DwIqUn4SnfrYpAwC4K5JBZ7XhTUEaLCdl6cSnMrYpAwBAzPT02sMtqT+5kMtJPQubMgCAe+8Wr+mkpcl0Oq0k5YfmqVUZAMBdEQs6PTnc2JWzUCWvR4s1r2tSDSp5mzKGHuqsr/mMSb1VXtSk/yP0ztWpXKxvS3hAtE0ZAMDdkBwy7QWVpgR/hfOsJW5o9NiQTRlV6mhDmp8cOeg2xgaJYRnzZOJ6zJMxZQAAy8P+73RyMwxMg6x/NAoAuLOK/zud330ZiCN1Ag4AwFhgTwcAcF8t5R0JAAD3C0EHAFAYgg4AoDAEHQBAYQg6AIDCEHQAAIUh6AAACkPQAQAUhqADACgMQQcAkN3Voex+sZ/Ck6CTl99nsptp9tQbOXuXZbrvv5O+o/jhlXkyM/1bbsjG0YRf059uQy9p5fR+NO+PPZF0mUnbAO4Jfb5uvHXlct+ZfM6EEHRy0vvcltLrLFMurMjWa5HmvJVYuDINLf5BoOc8Gr42CnDeAeOXDQfM2LoOv6RUsjZlZqUq8851S7ZXzXNrJthsONJfb0nVvJqgg8VxWVwzzbpb6sROErWeD32pm/frg9P0xoCeKVeacwRHYHlF6oVgic6hpuk6pVNyvXPFWz465p3JCDp5yFxZGqtr4nw6n6+3s9owO9+V1jM9h9HwQPCnlVjZ3BN3pyrVZ4MgwFXeqDInqpJ+eSBdf46iWMWs11f+2pZL718YNmUymCtwvx9+lsZT81KK3mcVUEJzMa1stqT2dUxgmaLy3BH325xBFlhCul7QdYXz0T+/1XJSk4tX0YzMr4FI7WnobFV1kM00NgSdHNz8uBBZr2aoLH0VWXvpynkBLefS65a0rjuJVkvg334seKgK/b+x3oNNmZn15PyTI2tZA/dUeppz8zAQnw5df4+ydEzrrlOaMENtHg0FYBF0o1Afw5nS/WPo3v3L8LkynNX54sPs2yDo5ODX4FJKj+Mhx0/5pCwpaahHpWpBLWedzitJe9zBontMr/vihD7v7o+q7L0JVb82ZWal5196VpZH5unt6Mnhq1GPzc9T6yWZSnsk5WfFNBSAW3d1KM3rmlQfmueaCkR7kXogmYJLQ9CZW1oLWhulfBLLPJVzHlTQOHjSlva4i35Bqm641Aeq8o0HSpsys0j0nm5DRRr+dwrlp3WaobGwHhiQMx0M9DE857T+7ttRo3JDp9PT1hepB+rSt+j5EHTmplM05uEdUnlzIKX9tpz9a14wekfJ1oou61z3g4PJpszM/inPmZ6bJp5K03SDoSTlcOvNo3qp3/xrVq6UjxldiPtndE3HlZa05TTSq+/JYWhQksebLXo6gk4OdGps8DNzdevRKTrneZE9INWq/1iS9vGFee67TKbe1MEUvWZlU2ZGD8tS+t6XX+bpIugcdP9H6FNfncrF+pjrNiqATv4sv6T/fZHXoICMcr+mo7M2uvEVb2y60gxSa2p5FR2oMw7TVedB7+QPIq3M3VndajiXtW5j/IXrafQQ5reueTJS3XG9ESV6eKOz7yew9Og2vS193cmR9pODIOWnezH9kgpG++F1+eWHbMpkoYdqnj/PlsrS/7b5yTwJVKV1sidboZ5MpNyzVnrKQAv9nqnpNf3+t7XbT5UCcbo+0tcmJx3fE4w9R8x6xdQpPl23nD7eS5wj46arJujkZJ4KkwrMmDt4F2eu/Q38RWYNOqTXclJ50ZLBcZburOptHIsc0GIeDst8Es8dLyEVHDtyQMABFP03gLOcC/R0AAC5o6cDALh1BB0AQGEIOgCAwhB0AACFIegAAApD0AEAFIagAwAoDEEHAFAYgg4AoDAEHQBAYQg6AIDCjAk6ZqrliTNBWpTRd0/251qYZ1ZJm/XktS0AwMLEgo4JJBuO9NdbY2ZytCmj6NvU6ylOzVSmbqkju+OmR57EZj15bQsAsFCxoDOa17/x1LyUYFNGpPc5OovcymZLal9PZ57212Y9eW0LALBYC7qmo+eeNw8DaXPUT2Oznry2BQBYNAYSAAAKQ9ABABRmQUEnLb2l02AlKT80T63YrCevbQEAFm1hPZ3Ki5r0f4RGkF2dysX6tlTM04A/1PndmQoVSTbrsd4WAOBW/ed/inksf/78kd7RhjQ/mRcCVWmd7MmW6TnYlNEi5Z61xA2NMPMNyzhy0G2MDRL26zFPxpQBABTjwYMH5lFUIugUqyeHG00Z7Liyt0mIAIC/xbigc7sDCX73ZSCO1Ak4AHAv3HJPBwDwN1rOng4A4F4h6AAACkPQAQAUhqADACgMQQcAUBiCDgCgMAQdAEBhCDoAgMIQdAAAhSHoAACyuzqU3S9pcwSkI+jcZ7/PZHfMlBI3X3ZlY+NQeuZ5msllbuTs3cbEaSuGZSZvA8Dy0nf333jryuW+453rNsGHe69lMrw7tmueRYWneNCVqiPt794biiMHH0U6P7e9u2rrStvZvzTvRVUjd96OredZS1pPLkReRKeSmJU+YM6fd6Wxal5Qgs/0Um3jui/l98kpJ2zLnD7eG65btYQOpRHZTkDPp/RtTbpvmP0IWAaRaWICyalr9DneltaontI9HlO3adx7LVcVaXQPxNHz9nS70g0tBy9NERMo+q9D75+UpaNaBSMltSOH77k7VXE+mnIfHfP+UO8otp7XfWknDooZqV5O57ol27FAsLK5N9zGm6p5JcmmjLXVNXE+ndPbAZZE5U2sPtLLSU0uXkWzEr8GIrWnoRkCVhtWU9QQdPKg01RHsWrTm73UjbbuH27JntqBNjtmRE+9bR761M4dBbdsbn6ontJ6dWET3a1stqR8bNJrx+VEcBupyNpLV86vzFMA89H10cS0dgaq7qq/HEj/t3mu6BmbLz7Mvg2Czjy+t8XRO/dVW/wkWeXNsAt68zPWCshsRbbeu6MK3FsORcx2svo1uJTS40WFnGHvLEgH+r+TXuLBWXlUqor7jb4OsLSuDqV5XZNquM7RjejX/dG5vbErZ6GgNA5BZx5+eu2kJZMTTaGL6qGds7LZSA8ciW6qDjzhrm5ZOpY7OF1K7ylnuos+/LwHEiQLXx5w7QZYNJNR6c45Zb/7NlRnHZfFTVufqquCeqlbl75Fz4egkwe9kxOVqeqK/msehoPGR0eqOy37Xkpa6k5tr7UjofXPakXKT8zDBbv5ci5l/7pVqSOHpNGAO2F0TceVlrTlNHLu6sFUsZGn3kzQ0xF0FmRlsy7yNqfhwJ+aicr616Aka2Ovk0ynU1qDn7llfCcIB990OtXnPKcHBOQi92s6foo/nl1xpRlkb9Tyqi91i94VQ6YzSQ6Z1q2CxJBgvfND13s8OiUX2jFpw6Yjw6X1Oj6L1K7boaHX8SHVGej1fhBpxQ8SPYQ5MsJuKLI9mzKB0G+Vml7T75/LWjc57BpABn69E6trbEWGTIfXYdYrsfM88ucRIeOGTBN07rG0v9MpHH+nA9xpswYd0mv3WOVFSwbHOQ6rnNmNnB2LHBBwgDtL/93eLA1XejoAgNzR0wEA3DqCDgCgMAQdAEBhCDoAgMIQdAAAhSHoAAAKQ9ABABSGoAMAKAxBBwBQGIIOAKAwBB0AQGHGBB0z02XK1MI+fYfiYB6FseWmr8eKvhPxtG3ZlAEA3KpY0PGnVXakvz5+CmZ9K+umHJhZ5YYzQkYrerv1WNFzOOipUkPb2v0Suy+yTRkAwK2LBZ3RtMqNp+alhJ6cfq2JG7odvZ4l07nuq1Djs1mPnd7n6Gx0K5stqX09jczIaVMGAHD7MlzTqUgjMdvkubhPytHXcnEj/WvzMKDn9x9IP5g21aYMAGAZzD+QwE9tMREXAGCK+YKOvnj/KpraAgBgnMxBxxu95l28b8ji+jhpaTKdTitJ+aF5alUGALAMMgSdnhxubEin5Eo36OGo195lnGvfH+o85t9XXtSk/yP0ztWpXKxvRwKdTRkAwO37z/8U81j+/Pnj9WCan8wLgaq0TvZkS/ccdJB46w5fDnvWEjeUZpu6HmNYzpGDCT2myLpi2/HZlAEAFOPBgwfmUVQi6BRL95qaMthxZW+TEAEAf4txQWf+0Wvz+N2XgThSJ+AAwL1wyz0dAMDfaDl7OgCAe4WgAwAoDEEHAFAYgg4AoDAEHQBAYQg6AIDCEHQAAIUh6AAACkPQAQAUhqADAMju6lB2v9jPMUDQ+WsMp5zwponYOFTP8nIjZ+/yXucEZqqLWQ5iALdD391fzzpwue9Yn7fcey2T4d2xUyZ4UCZP05BKtxR+bud0p20dJE6l/D7PyfUWsc4Jcv09bs/Nl105fbwnjVXzAnAH2E5Lo4/vtrRG52nsvOXea3l7eSDdblctB+Lo+Xu8x660npn3AeAOqrzpirtTFeejrtPMclKTi1fRbMevgUjtaahhuNqwaigSdBbNpIuC5Si820xKLNQ9HS67chaefvv3mewG76W8n7fYZz68Mq+H6FZOuMy4mV+n89N3k9YTTh0Ol7TP5HX1gzLqN/pymCwX+267X84Ss97Gv1skZeD/+6OzyOeOlDH7y9m/FPftqExainLitgyr7wX4/Poi8zmZ4uGW1F8OpB+qd/SMzRcfZt8GQWeBvArluGx6QcPFLXVCgaciDf36R0eqO+6oVdGNdmPlYVnq4VZHty79WKsjN7pSjXxmV8rHjrS/m/c1VcYZ1EOfRy2v++LMfJDrgONI/3VsPZGZaXWZjpRPQmW8zxQLPOozeVOoB2XUb7QfTYCm7Y/6oB1Jk+oKPv7d6gNnFAxUa6570pLqp3boc7tS+9oeNQTUCbqnXk+0FmNp16nb0iy+F7Bw6jhsXtekGqmX1HGuz9dwg8iiMcw1nbmpVvi7vmwnpsdWleXRpVTfpE2tvSv9F6HAonbo5GsYadeQxl07mu/6S+/oUORN/N9G15me89WSed+JVIvs8EdVGvHvHf49dKvtVVsuzVsROsX5xv+kwwAWCY6J96f9Lup3PhJpBP/GF/u3+jN9LsteqFxinyo6yI2/pmO5ranfC8ifPnZ1Tz2gLyEk6ri4aF3INZ07S1c6yZb+7V470sEl/Hn8ZYaAM4vg+llsiVS8K7L1Pvr+gTRT01V3y9/6vbDsRr10Vd9IW04jKV3dEI5lW7yZoKcj6CzMilRLF7EdpahWckfqkytn1dIf5f9/Sf97ScqRFnQ72vLNUeW5SCdWocW3l57L1cFxxmtND6tS/noaPXD1wRxOr+lcsqpkU6/NhK6P6d5XvMyjUlVKj/22mdof6wNpRq6pKV7+2/+tK7Km9k7iO1ydysX69oQekh0vvRekIO22Nf17ATHeMZ3nNR3d8NEp7fj57UozSK2p5VVf6lN7Q6TX5qAj/bSUV0pqJDUtFisX78rqCjZcEb9sSetaB4JROmtsysuqWxyVWFfK9hKfSdEto5mHByfSZ2obOyVp6+sWQRop5XeMfa/U75+ShkqkDRL7I2W/hrcV/t7m9V+hbUd/g9i6Ep9nyrYU2+8FBPxzKsO5r0WOufA6zHplx41cChiXRh6XXiPoAAAyI+gAAG4dAwkAALeOoAMAKAxBBwBQGIIOAKAwBB0AQGEIOgCAwhB0AACFIegAAApD0AEAFIagAwAoDEEHAFAYgg4AoDBjgo6+lfxGbD7/NPrW7KP5FOLTBwfzLJgl88RT4XWN+0w2ZQAAtyp2l+nrYN4SZ6clg0F0St4Ib16RwfjpidX7k6dgtqTncPgg0jJzOujbaLelFV2vTRkAQGEs7zI9mhq38dS8lEr1cN6KHCxqeuKQ3ufobHQrmy2pxWabtCkDALh92a7pXJ3LYGf69L2X+84o5RWfT9vKjfSvzcPAipSfDKQfTJtqUwYAsAwyBZ2bnwNvjnY9rakfVBJz2K82vB5TsJyUpZPbnN0AgLsoU9D5NbgU+XYonZJrgoor5eNdOZvUs3i4JfUnF3JJ7wMA7q1MQafy3BH3uiyt4EL9imy9Lkn/X/M0N2lpMp1OK0k5uJZkUwYAsAyyXdNZ3ZaWRHstvW8DKf9jnnhDqaM9Hz2irHldk2o8EPhDncek3iovatL/EXrn6lQu1qPXk2zKAABuX2zI9B/vOk3zk3khUE0ZGq0DS1Nc86y648aGKEffl2ctcUMjzHzD7Tly0G2MDRKRzzRxPebJmDIAgGKMGzKdCDrFGgamQSJgAQDuMsu/0ynY774MxJE6AQcA7oVb7ukAAP5Gy9nTAQDcKwQdAEBhCDoAgMIQdAAAhSHoAAAKQ9ABABSGoAMAKAxBBwBQGIIOAKAwBJ07Rt+te/fLnFPh6Tt7L9WEejdy9i5lIsCFKHJbwD2g6pNZ6iSCzm37fSa7/pTe0wKB2rnOoM7NUQszDFDZploH/n7e7NFvXbncd7w6zCb4cO+1Oeheh7N/aZ5VpbVTkgvZzhgUenL4ri/b46Zk0MHpg0jrTkzZEJvWwjN5+orlpQPPqZTf38XPDszOdnobXf+1pTWq73SP5+eo/lvSqQ3uMJ2i+rYm3Td+VTTvNA1Tgs6d9DdU2AQd3D86oJw+3pPGqnlBN3pf9aUeajj2jnal/yI+z9oIN/zM2c3PgXnkq0jjo2MeGzow+akzb8mYprFYjz5IvPe8FJ0OgH7Z0Ayulqm8YF1mmfsa0gRe99xsZ+x1lvDn9sr5aS/93cx3DX2fYJ1H0V/Jalux3zq9XPj31QvpNywR/3zJ87rtwy2pvxxIPzQbtJ6x+eLD7Nsg6GS0srknbqkTqnhUBSWNaC/nnzU5OOlKt2uWk7J0shwIFuvRn6fbPRDne1ucjY6Ug/Khlog6cPa811Q581Kcrpj1daNgW2qpD5yFBZ7Km+E23J2qeSUmaGH5n8eV8rEj7e86Xae/mwr2se/jrfOkJfE1Tt2WDjjHZXET2zLva94JHf591aL3B4EHfzN1bjSva1IN92p0ffK6r+obvw4MNXAnIOjMYVjRhyuoeK+gL51Xo6C08aot/hWg2cywHj1VdzjQzKQn53IQShkOVd64Uvt6mk+lqivtWA9kkt7nC6mdhFNbK7L1fnzQnEfvm8hBJL2pt+VK65l5qtz86KvPE/t99cn3UaSzwB4hYM1vXM6Zqnffhuoc3RhLW99qI1QH1qVv0fMh6GSi0zvxlq2qoP7bEhn8Ms97chhpoeslS2WZ13r+Jo+kHAoEAPLnfPTrG9XwkracRlLNOsUcqwO9maCnI+hk5koz3mL/ty+l56ZNrnfAs7KqHkd6R/ERXRbyWo+ViqxJJ9lFvjqVi/XtW7mQrvPG/R/RttPNl3Y05aWDkFzIZfC5daCevVdZeZ7srcS3tfJUbelzvKemGiHHwrTrWA65X9MZ9vjLx/H0maoD/Z6QXnTj2KJ3xei1TIYjmmR9IO1gyLSiU1uhHz06pFqkutOS0n5b7Sp/+LBeT+yage/lKM01fT261ZEWiMLDlO22NWzBxNYV+17Tjfs8hr89fQ3lbVqp6PDMxBDOly1pXfejI8oi61L//mNNLt6qwON/9rm2pQPPqFx8f2i6VRiM9AFuk3cdNHTsm5dtRc6B8DrMeiU2QlefD5GRbgZDpvEXGQZ9hjEDt2/WoEN6DQCQmR5QNUsvn54O7pRo+iv5V9IAlgPpNQBAYUivAQBuHUEHAFAYgg4AoDAEHQBAYQg6AIDCEHQAAIUh6AAACkPQAQAUhqADACgMQQcAUJjU2+CMvbV1SOT27mllUm4lX43dEttaeF2R2/CH2JQBABTC/t5ruvL+tjaqtOPPFS8ohaY19gKQnlc/XNGrf7f7cztbkAnTczh8EGmZoKa31ZZWdL02ZQAAhbG+91rv20BaL0LBY7UhbqkfmZa08qYbCTArm3Vxrvs5zVIX1fscnY1uZbOVmK/fpgwA4PYlgk7leUna4el4VS+ivd+W88j82FE3XzriPilH02vK5b4zmso0Pp+2lRvpX5uHgRUpPxlIP5g21aYMAGAZJAcSqJ7NgTQj817XdqrmzTA9e+OwTCK1pqn1dLuqR+QvJ2Xp5DZnNwDgLkodvealz4KA0ZDyIDof/NCKbL0flnFLHdk4mtKPebgl9ScXcknvAwDuLYsh0z05/+TI2oTpSPV0pQfSkbPcA0pamkyn00pSDmaLtCkDAFgGU4JOTw43miIfGzJKnunXdqMB5upQmp/ClXyyjB5R1ryuSTUeCPToOJ3GG5N6q7yoSf9H6J2rU7lY3w59HrsyAIDblxgyHfn7m7Fz0A+D0eivcBw56IYDkxYrM+bvfYZ/E5T270ds/m7IpgwAoBj2f6dTqGFgGmT9o1EAwFKy/judQv3uy0D1kuoEHAC4F265pwMA+BstZ08HAHCvEHQAAIUh6AAACkPQAQAUhqADAChMZPQaAACLI/L/q/mCwdbjW/AAAAAASUVORK5CYII=)"
      ],
      "metadata": {
        "id": "mAeUtGadJXhf"
      }
    },
    {
      "cell_type": "code",
      "source": [
        "Preço= float(input(\"Digite o valor da hora de trabalho: \"))\n",
        "horas= float(input(\"Digite a quantidade de horas trabalhadas no mês: \"))\n",
        "salario_Bruto=Preço*horas\n",
        "FGTS = 11\n",
        "\n",
        "if salario_Bruto <= 900:\n",
        "  IR = 0\n",
        "elif salario_Bruto <=1500:\n",
        "  IR = 5\n",
        "elif salario_Bruto <=2500:\n",
        "  IR = 10\n",
        "elif salario_Bruto >2500:\n",
        "  IR = 20\n",
        "\n",
        "sindicato = salario_Bruto * 0.03\n",
        "fgts = salario_Bruto * 0.11 #Nao é descontado\n",
        "total_descontos = IR + sindicato\n",
        "salario_liquido = salario_Bruto - total_descontos\n",
        "\n",
        "print(\"\\nFolha de Pagamento\")\n",
        "print(f\"Salário Bruto: ({Preço} * {horas}): R$ {salario_Bruto:.2f}\")\n",
        "print(f\"(-) IR ({IR:.2f})\")\n",
        "print(f\"(-) Sindicato ({sindicato:.2f})\")\n",
        "print(f\"FGTS ({fgts:.2f})\")\n",
        "print(f\"Total de Descontos: R$ {total_descontos:.2f}\")\n",
        "print(f\"Salário Líquido: R$ {salario_liquido:.2f}\")"
      ],
      "metadata": {
        "colab": {
          "base_uri": "https://localhost:8080/"
        },
        "id": "v-qtrIr9toBK",
        "outputId": "afc0ea65-2e90-4394-93b1-3ffa00288364"
      },
      "execution_count": null,
      "outputs": [
        {
          "output_type": "stream",
          "name": "stdout",
          "text": [
            "Digite o valor da hora de trabalho: 15\n",
            "Digite a quantidade de horas trabalhadas no mês: 160\n",
            "\n",
            "Folha de Pagamento\n",
            "Salário Bruto: (15.0 * 160.0): R$ 2400.00\n",
            "(-) IR (10.00)\n",
            "(-) Sindicato (72.00)\n",
            "FGTS (264.00)\n",
            "Total de Descontos: R$ 82.00\n",
            "Salário Líquido: R$ 2318.00\n"
          ]
        }
      ]
    },
    {
      "cell_type": "markdown",
      "source": [
        "**13. Faça um Programa que leia um número e exiba o dia correspondente da semana. (1-Domingo, 2- Segunda, etc.), se digitar outro valor deve aparecer valor inválido.**\n"
      ],
      "metadata": {
        "id": "SmXmhRiBJsbn"
      }
    },
    {
      "cell_type": "code",
      "source": [
        "Dia = int(input(\"Digite um número de 1 a 7: \"))\n",
        "if Dia == 1:\n",
        "  print(\"Domingo\")\n",
        "elif Dia == 2:\n",
        "  print(\"Segunda\")\n",
        "elif Dia == 3:\n",
        "  print(\"Terça\")\n",
        "elif Dia == 4:\n",
        "  print(\"Quarta\")\n",
        "elif Dia == 5:\n",
        "  print(\"Quinta\")\n",
        "elif Dia == 6:\n",
        "  print(\"Sexta\")\n",
        "elif Dia == 7:\n",
        "  print(\"Sábado\")"
      ],
      "metadata": {
        "colab": {
          "base_uri": "https://localhost:8080/"
        },
        "id": "9Dg_rvliyHPL",
        "outputId": "570168ba-2ce7-48ad-cae1-8031102c727c"
      },
      "execution_count": null,
      "outputs": [
        {
          "output_type": "stream",
          "name": "stdout",
          "text": [
            "Digite um número de 1 a 7: 3\n",
            "Terça\n"
          ]
        }
      ]
    },
    {
      "cell_type": "markdown",
      "source": [
        "**14. Faça um programa que lê as duas notas parciais obtidas por um aluno numa disciplina ao longo de um semestre, e calcule a sua média. A atribuição de conceitos obedece à tabela abaixo:**\n",
        "\n",
        "![image.png](data:image/png;base64,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)"
      ],
      "metadata": {
        "id": "qp7wWt_uJxJv"
      }
    },
    {
      "cell_type": "code",
      "source": [
        "Nota1= float(input(\"Nota 1: \"))\n",
        "Nota2= float(input(\"Nota 2: \"))\n",
        "Media= (Nota1 + Nota2)/2\n",
        "print(\"Média: \", Media)\n",
        "if Media >= 0 and Media <= 4:\n",
        "    print(\"Conceito: E\")\n",
        "elif Media > 4 and Media <= 6:\n",
        "    print(\"Conceito: D\")\n",
        "elif Media > 6 and Media <= 7.5:\n",
        "    print(\"Conceito: C\")\n",
        "elif Media > 7.5 and Media <= 9:\n",
        "    print(\"Conceito: B\")\n",
        "elif Media > 9 and Media <= 10:\n",
        "    print(\"Conceito: A\")\n"
      ],
      "metadata": {
        "colab": {
          "base_uri": "https://localhost:8080/"
        },
        "id": "2aJ4T8xwyer7",
        "outputId": "3b29fcd6-77a9-4621-9acc-5f7fcd635b3b"
      },
      "execution_count": null,
      "outputs": [
        {
          "output_type": "stream",
          "name": "stdout",
          "text": [
            "Nota 1: 5.5\n",
            "Nota 2: 3.9\n",
            "Média:  4.7\n",
            "Conceito: D\n"
          ]
        }
      ]
    },
    {
      "cell_type": "markdown",
      "source": [
        "**15. Faça um Programa que peça os 3 lados de um triângulo. O programa deverá informar se os valores podem ser um triângulo. Indique, caso os lados formem um triângulo, se o mesmo é: equilátero, isósceles ou escaleno.**\n",
        "\n",
        "Dicas:\n",
        "\n",
        "- Três lados formam um triângulo quando a soma de quaisquer dois lados for maior que o terceiro;\n",
        "- Triângulo Equilátero: três lados iguais;\n",
        "- Triângulo Isósceles: quaisquer dois lados iguais;\n",
        "- Triângulo Escaleno: três lados diferentes;"
      ],
      "metadata": {
        "id": "sz-RDd_VJ_IW"
      }
    },
    {
      "cell_type": "code",
      "source": [
        "Lado1 = int(input(\"Lado 1: \"))\n",
        "Lado2 = int(input(\"Lado 2: \"))\n",
        "Lado3 = int(input(\"Lado 3: \"))\n",
        "#Três lados formam um triângulo quando a soma de quaisquer dois lados for maior que o terceiro;\n",
        "if Lado1 + Lado2 > Lado3 or Lado1 + Lado3 > Lado2 or Lado2 + Lado3 > Lado1:\n",
        "    print(\"É um triângulo!\")\n",
        "else:\n",
        "  print(\"Não é um triângulo\")\n",
        "print(\"             \")\n",
        "#Triângulo Equilátero: três lados iguais;\n",
        "if Lado1 == Lado2 == Lado3:\n",
        "    print(\"É um Triângulo Equilátero\")\n",
        "else:\n",
        "  print(\"Não é um triângulo Equilátero\")\n",
        "\n",
        "#Triângulo Isósceles: quaisquer dois lados iguais;\n",
        "if Lado1 == Lado2 or Lado1 == Lado3 or Lado2 == Lado3:\n",
        "    print(\"É um Triângulo Isósceles\")\n",
        "else:\n",
        "  print(\"Não é um triângulo Isósceles\")\n",
        "\n",
        "#Triângulo Escaleno: três lados diferentes;\n",
        "if Lado1 != Lado2 and Lado1 != Lado3 and Lado2 != Lado3:\n",
        "    print(\"É um Triângulo Escaleno\")\n",
        "else:\n",
        "  print(\"Não é um triângulo Escaleno\")\n"
      ],
      "metadata": {
        "colab": {
          "base_uri": "https://localhost:8080/"
        },
        "id": "te8n4YZBKJ4M",
        "outputId": "647f0d1b-1244-4233-da71-8422a83487b5"
      },
      "execution_count": null,
      "outputs": [
        {
          "output_type": "stream",
          "name": "stdout",
          "text": [
            "Lado 1: 3\n",
            "Lado 2: 6\n",
            "Lado 3: 9\n",
            "É um triângulo!\n",
            "             \n",
            "Não é um triângulo Equilátero\n",
            "Não é um triângulo Isósceles\n",
            "É um Triângulo Escaleno\n"
          ]
        }
      ]
    },
    {
      "cell_type": "markdown",
      "source": [
        "**16. Faça um programa que calcule as raízes de uma equação do segundo grau, na forma ax2 + bx + c. O programa deverá pedir os valores de a, b e c e fazer as consistências, informando ao usuário nas seguintes situações:**\n",
        "\n",
        "1. Se o usuário informar o valor de A igual a zero, a equação não é do segundo grau e o programa não deve fazer pedir os demais valores, sendo encerrado;\n",
        "\n",
        "2. Se o delta calculado for negativo, a equação não possui raizes reais. Informe ao usuário e encerre o programa;\n",
        "\n",
        "3. Se o delta calculado for igual a zero a equação possui apenas uma raiz real; informe-a ao usuário;\n",
        "\n",
        "4. Se o delta for positivo, a equação possui duas raiz reais; informe-as ao usuário;"
      ],
      "metadata": {
        "id": "qxzt15CZKPQv"
      }
    },
    {
      "cell_type": "code",
      "source": [
        "#x = (-b ± √(b² - 4ac)) / (2a)\n",
        "import math\n",
        "\n",
        "a = float(input(\"Digite o valor de a: \"))\n",
        "b = float(input(\"Digite o valor de b: \"))\n",
        "c = float(input(\"Digite o valor de c: \"))\n",
        "\n",
        "if a == 0:\n",
        "    print(\"A equação não é do segundo grau.\")\n",
        "else:\n",
        "    delta = b**2 - 4*a*c\n",
        "\n",
        "    if delta < 0:\n",
        "        print(\"A equação não possui raízes reais.\")\n",
        "    elif delta == 0:\n",
        "        raiz = -b / (2*a)\n",
        "        print(f\"A equação possui apenas uma raiz real: {raiz}\")\n",
        "    else:\n",
        "        raiz1 = (-b + math.sqrt(delta)) / (2*a)\n",
        "        raiz2 = (-b - math.sqrt(delta)) / (2*a)\n",
        "        print(f\"A equação possui duas raízes reais:\")\n",
        "        print(f\"Raiz 1: {raiz1}\")\n",
        "        print(f\"Raiz 2: {raiz2}\")\n",
        "\n"
      ],
      "metadata": {
        "colab": {
          "base_uri": "https://localhost:8080/"
        },
        "id": "ScDeHc2QKgzO",
        "outputId": "ea4875fa-5022-4a2c-a53e-48f08cdcd00b"
      },
      "execution_count": null,
      "outputs": [
        {
          "output_type": "stream",
          "name": "stdout",
          "text": [
            "Digite o valor de a: 4\n",
            "Digite o valor de b: 80\n",
            "Digite o valor de c: 5\n",
            "A equação possui duas raízes reais:\n",
            "Raiz 1: -0.06269654282410464\n",
            "Raiz 2: -19.937303457175894\n"
          ]
        }
      ]
    },
    {
      "cell_type": "code",
      "source": [],
      "metadata": {
        "id": "e9YSoA0NKfNB"
      },
      "execution_count": null,
      "outputs": []
    },
    {
      "cell_type": "markdown",
      "source": [
        "**17. Faça um Programa que peça um número correspondente a um determinado ano e em seguida informe se este ano é ou não bissexto**.\n"
      ],
      "metadata": {
        "id": "d-lx6Ps3KhZY"
      }
    },
    {
      "cell_type": "code",
      "source": [
        "#De 4 em 4 anos é ano bissexto.\n",
        "#De 100 em 100 anos não é ano bissexto.\n",
        "#De 400 em 400 anos é ano bissexto.\n",
        "ano = int(input())\n",
        "\n",
        "if (ano % 4 == 0 and ano % 100 != 0) or ano % 400 == 0:\n",
        "    print('Ano bissexto.')\n",
        "else:\n",
        "    print('Não é um ano bissexto.')"
      ],
      "metadata": {
        "colab": {
          "base_uri": "https://localhost:8080/"
        },
        "id": "eIdLx3TLB_rK",
        "outputId": "f53ad25d-a1e8-493e-93f8-d4a5deefab61"
      },
      "execution_count": null,
      "outputs": [
        {
          "output_type": "stream",
          "name": "stdout",
          "text": [
            "1200\n",
            "Ano bissexto.\n"
          ]
        }
      ]
    },
    {
      "cell_type": "markdown",
      "source": [
        "**18. Faça um Programa que peça uma data no formato dd/mm/aaaa e determine se a mesma é uma data válida.**\n",
        "\n"
      ],
      "metadata": {
        "id": "klKCOj1xKnxX"
      }
    },
    {
      "cell_type": "code",
      "source": [
        "\n"
      ],
      "metadata": {
        "id": "vzAm-v5hWAGS"
      },
      "execution_count": null,
      "outputs": []
    },
    {
      "cell_type": "markdown",
      "source": [
        "**19. Faça um Programa que leia um número inteiro menor que 1000 e imprima a quantidade de centenas, dezenas e unidades do mesmo.**\n",
        "\n",
        "**Observando os termos no plural a colocação do \"e\", da vírgula entre outros. Exemplo:**\n",
        "\n",
        "- 326 = 3 centenas, 2 dezenas e 6 unidades\n",
        "\n",
        "- 12 = 1 dezena e 2 unidades Testar com: 326, 300, 100, 320, 310,305, 301, 101, 311, 111, 25, 20, 10, 21, 11, 1, 7 e 16"
      ],
      "metadata": {
        "id": "tf_ho2FDWAks"
      }
    },
    {
      "cell_type": "code",
      "source": [
        "num = int(input(\"Digite um número menor que 1000: \"))\n",
        "\n",
        "if num >= 1000 or num < 0:\n",
        "    print(\"Número inválido\")\n",
        "else:\n",
        "  centenas = num // 100\n",
        "  dezenas = (num % 100) // 10\n",
        "  unidades = num % 10\n",
        "\n",
        "  resultado = []\n",
        "if centenas > 0:\n",
        "  resultado.append(f\"{centenas} centena\" + (\"s\" if centenas > 1 else \"\"))\n",
        "if dezenas > 0:\n",
        "  resultado.append(f\"{dezenas} dezena\" + (\"s\" if dezenas > 1 else \"\"))\n",
        "if unidades > 0 or (centenas == 0 and dezenas == 0):\n",
        "  resultado.append(f\"{unidades} unidade\" + (\"s\" if unidades > 1 else \"\"))\n",
        "\n",
        "print(\" e \".join(resultado))\n"
      ],
      "metadata": {
        "id": "10grmFy1WLjo",
        "colab": {
          "base_uri": "https://localhost:8080/"
        },
        "outputId": "f3f67c14-4ee8-4dea-d3f5-7fe120863ef6"
      },
      "execution_count": null,
      "outputs": [
        {
          "output_type": "stream",
          "name": "stdout",
          "text": [
            "Digite um número menor que 1000: 851\n",
            "8 centenas e 5 dezenas e 1 unidade\n"
          ]
        }
      ]
    },
    {
      "cell_type": "markdown",
      "source": [],
      "metadata": {
        "id": "BM0f5md2Gmvz"
      }
    },
    {
      "cell_type": "markdown",
      "source": [
        "**20. Faça um Programa para leitura de três notas parciais de um aluno. O programa deve calcular a média alcançada por aluno e presentar:**\n",
        "\n",
        "- 1. A mensagem \"Aprovado\", se a média for maior ou igual a 7, com a respectiva média alcançada;\n",
        "\n",
        "- 2. A mensagem \"Reprovado\", se a média for menor do que 7, com a respectiva média alcançada;\n",
        "\n",
        "- 3. A mensagem \"Aprovado com Distinção\", se a média for igual a 10."
      ],
      "metadata": {
        "id": "VRbX8SJTWOXd"
      }
    },
    {
      "cell_type": "code",
      "source": [
        "N_1 = float(input(\"Nota 1: \"))\n",
        "N_2 = float(input(\"Nota 2: \"))\n",
        "N_3 = float(input(\"Nota 3: \"))\n",
        "Media = (N_1 + N_2 + N_3)/3\n",
        "print(\"Média: \", Media)\n",
        "if Media == 10:\n",
        "    print(\"Aprovado com Distinção\")\n",
        "elif Media >= 7:\n",
        "    print(\"Aprovado\")\n",
        "else:\n",
        "    print(\"Reprovado\")"
      ],
      "metadata": {
        "id": "Z4W3y0iWWX39",
        "colab": {
          "base_uri": "https://localhost:8080/"
        },
        "outputId": "722ba5d6-b415-4d53-ed91-5e069dcb2e2c"
      },
      "execution_count": null,
      "outputs": [
        {
          "output_type": "stream",
          "name": "stdout",
          "text": [
            "Nota 1: 10\n",
            "Nota 2: 10\n",
            "Nota 3: 10\n",
            "Média:  10.0\n",
            "Aprovado com Distinção\n"
          ]
        }
      ]
    },
    {
      "cell_type": "markdown",
      "source": [
        "**21. Faça um Programa para um caixa eletrônico. O programa deverá perguntar ao usuário a valor do saque e depois informar quantas notas de cada valor serão fornecidas. As notas disponíveis serão as de 1, 5, 10, 50 e 100 reais. O valor mínimo é de 10 reais e o máximo de 600 reais. O programa não deve se preocupar com a quantidade de notas existentes na máquina.**\n",
        "\n",
        "**Exemplo 1: Para sacar a quantia de 256 reais, o programa fornece duas notas de 100, uma nota de 50, uma nota de 5 e uma nota de 1;**\n",
        "\n",
        "\n",
        "**Exemplo 2: Para sacar a quantia de 399 reais, o programa fornece três notas de 100, uma nota de 50, quatro notas de 10, uma nota de 5 e quatro notas de 1.**"
      ],
      "metadata": {
        "id": "h-SpaBkDWfIN"
      }
    },
    {
      "cell_type": "code",
      "source": [
        "Valor = int(input(\"Valor do saque: \"))\n",
        "if Valor < 10 or Valor > 600:\n",
        "    print(\"Valor inválido\")\n",
        "else:\n",
        "    notas = [100, 50, 10, 5, 1]\n",
        "    for nota in notas:\n",
        "        quantidade = Valor // nota\n",
        "        Valor %= nota\n",
        "        if quantidade > 0:\n",
        "            print(f\"{quantidade} nota(s) de {nota} reais\")"
      ],
      "metadata": {
        "id": "ryepWbZrWwfM",
        "colab": {
          "base_uri": "https://localhost:8080/"
        },
        "outputId": "16a1655e-a094-4755-e593-3e54edc72f3a"
      },
      "execution_count": null,
      "outputs": [
        {
          "output_type": "stream",
          "name": "stdout",
          "text": [
            "Valor do saque: 355\n",
            "3 nota(s) de 100 reais\n",
            "1 nota(s) de 50 reais\n",
            "1 nota(s) de 5 reais\n"
          ]
        }
      ]
    },
    {
      "cell_type": "markdown",
      "source": [
        "**22. Faça um Programa que peça um número inteiro e determine se ele é par ou impar. Dica: utilize o operador módulo (resto da divisão).**\n"
      ],
      "metadata": {
        "id": "v8-OiiW6WybN"
      }
    },
    {
      "cell_type": "code",
      "source": [
        "inteiro = int(input(\"Digite um número inteiro: \"))\n",
        "if inteiro % 2 == 0:\n",
        "    print(\"Número par\")\n",
        "else:\n",
        "    print(\"Número ímpar\")\n"
      ],
      "metadata": {
        "id": "q8EcWvIfW0Ha",
        "colab": {
          "base_uri": "https://localhost:8080/"
        },
        "outputId": "70175e67-d518-40ff-b3b1-a480dd2879f9"
      },
      "execution_count": null,
      "outputs": [
        {
          "output_type": "stream",
          "name": "stdout",
          "text": [
            "Digite um número inteiro: 8\n",
            "Número par\n"
          ]
        }
      ]
    },
    {
      "cell_type": "markdown",
      "source": [
        "**23. Faça um Programa que peça um número e informe se o número é inteiro ou decimal. Dica: utilize uma função de arredondamento.**\n"
      ],
      "metadata": {
        "id": "bbMJ0M_uW-30"
      }
    },
    {
      "cell_type": "code",
      "source": [
        "numero = float(input(\"Número: \"))\n",
        "if numero == round(numero):\n",
        "  print(\"O número é inteiro.\")\n",
        "else:\n",
        "  print(\"O número é decimal.\")"
      ],
      "metadata": {
        "colab": {
          "base_uri": "https://localhost:8080/"
        },
        "id": "G2jvabemU3ha",
        "outputId": "d7e22ea8-7494-4fd8-e2e9-54b3f7c57d18"
      },
      "execution_count": null,
      "outputs": [
        {
          "output_type": "stream",
          "name": "stdout",
          "text": [
            "Número: 5.6\n",
            "O número é decimal.\n"
          ]
        }
      ]
    },
    {
      "cell_type": "markdown",
      "source": [
        "**24. Faça um Programa que leia 2 números e em seguida pergunte ao usuário qual operação ele deseja realizar. O resultado da operação deve ser acompanhado de uma frase que diga se o número é:**\n",
        "- par ou ímpar;\n",
        "- positivo ou negativo;\n",
        "- inteiro ou decimal."
      ],
      "metadata": {
        "id": "Du9KUBt5XB31"
      }
    },
    {
      "cell_type": "code",
      "source": [
        "numero_1= int(input(\"Primeiro número: \"))\n",
        "numero_2= int(input(\"Segundo número: \"))\n",
        "\n",
        "print(f\"Você escolheu os números {numero_1} e {numero_2}.\")\n",
        "\n",
        "operacao = input(\"O que você deseja fazer com esses números? Escolha +, -, *, /: \")\n",
        "\n",
        "if operacao == '+':\n",
        "    resultado = numero_1 + numero_2\n",
        "    print(resultado)\n",
        "elif operacao == '-':\n",
        "    resultado = numero_1 - numero_2\n",
        "    print(resultado)\n",
        "elif operacao == '*':\n",
        "    resultado = numero_1 * numero_2\n",
        "    print(resultado)\n",
        "elif operacao == '/':\n",
        "    resultado = numero_1 / numero_2\n",
        "    print(resultado)\n",
        "else:\n",
        "    print(\"Operação inválida.\")\n",
        "    resultado = None\n",
        "\n",
        "\n",
        "if resultado % 2 == 0:\n",
        "  print(\"O resultado é par.\")\n",
        "else:\n",
        "  print(\"O resultado é ímpar.\")\n",
        "if resultado >= 0:\n",
        "  print(\"O resultado é positivo.\")\n",
        "else:\n",
        "  print(\"O resultado é negativo.\")\n",
        "if resultado == int(resultado):\n",
        "  print(\"O resultado é inteiro.\")\n",
        "else:\n",
        "  print(\"O resultado é decimal.\")"
      ],
      "metadata": {
        "colab": {
          "base_uri": "https://localhost:8080/"
        },
        "id": "4iAVu9eRhrsF",
        "outputId": "0cbef83d-2951-4624-ee48-08b50681d1fe"
      },
      "execution_count": null,
      "outputs": [
        {
          "output_type": "stream",
          "name": "stdout",
          "text": [
            "Primeiro número: 2\n",
            "Segundo número: 5\n",
            "Você escolheu os números 2 e 5.\n",
            "O que você deseja fazer com esses números? Escolha +, -, *, /: *\n",
            "10\n",
            "O resultado é par.\n",
            "O resultado é positivo.\n",
            "O resultado é inteiro.\n"
          ]
        }
      ]
    },
    {
      "cell_type": "markdown",
      "source": [
        "**25. Faça um programa que faça 5 perguntas para uma pessoa sobre um crime. As perguntas são:**\n",
        "\n",
        "- \"Telefonou para a vítima?\"\n",
        "- \"Esteve no local do crime?\"\n",
        "- \"Mora perto da vítima?\"\n",
        "- \"Devia para a vítima?\"\n",
        "- \"Já trabalhou com a vítima?\"\n",
        "\n",
        "**O programa deve no final emitir uma classificação sobre a participação da pessoa no crime. Se a pessoa responder positivamente a 2 questões ela deve ser classificada como \"Suspeita\", entre 3 e 4 como \"Cúmplice\" e 5 como \"Assassino\". Caso contrário, ele será classificado como \"Inocente\".**"
      ],
      "metadata": {
        "id": "qEcb2ObrXKtt"
      }
    },
    {
      "cell_type": "code",
      "source": [
        "while True:\n",
        "    ask1 = input(\"Telefonou para a vítima? Responda apenas com 's' ou 'n': \").lower()\n",
        "    if ask1 == 's' or ask1 == 'n':\n",
        "        break\n",
        "    else:\n",
        "        print(\"Por favor, responda com 's' para sim ou 'n' para não.\")\n",
        "\n",
        "while True:\n",
        "    ask2 = input(\"Esteve no local do crime? Responda apenas com 's' ou 'n': \").lower()\n",
        "    if ask2 == 's' or ask2 == 'n':\n",
        "        break\n",
        "    else:\n",
        "        print(\"Por favor, responda com 's' para sim ou 'n' para não.\")\n",
        "\n",
        "while True:\n",
        "    ask3 = input(\"Mora perto da vítima? Responda apenas com 's' ou 'n': \").lower()\n",
        "    if ask3 == 's' or ask3 == 'n':\n",
        "        break\n",
        "    else:\n",
        "        print(\"Por favor, responda com 's' para sim ou 'n' para não.\")\n",
        "\n",
        "while True:\n",
        "    ask4 = input(\"Devia para a vítima? Responda apenas com 's' ou 'n': \").lower()\n",
        "    if ask4 == 's' or ask4 == 'n':\n",
        "        break\n",
        "    else:\n",
        "        print(\"Por favor, responda com 's' para sim ou 'n' para não.\")\n",
        "\n",
        "while True:\n",
        "    ask5 = input(\"Já trabalhou com a vítima? Responda apenas com 's' ou 'n': \").lower()\n",
        "    if ask5 == 's' or ask5 == 'n':\n",
        "        break\n",
        "    else:\n",
        "        print(\"Por favor, responda com 's' para sim ou 'n' para não.\")\n",
        "\n",
        "respostas_positivas = 0\n",
        "if ask1 == 's':\n",
        "    respostas_positivas += 1\n",
        "if ask2 == 's':\n",
        "    respostas_positivas += 1\n",
        "if ask3 == 's':\n",
        "    respostas_positivas += 1\n",
        "if ask4 == 's':\n",
        "    respostas_positivas += 1\n",
        "if ask5 == 's':\n",
        "    respostas_positivas += 1\n",
        "\n",
        "if respostas_positivas == 2:\n",
        "    print(\"Suspeita\")\n",
        "elif 3 <= respostas_positivas <= 4:\n",
        "    print(\"Cúmplice\")\n",
        "elif respostas_positivas == 5:\n",
        "    print(\"Assassino\")\n",
        "else:\n",
        "    print(\"Inocente\")"
      ],
      "metadata": {
        "colab": {
          "base_uri": "https://localhost:8080/"
        },
        "id": "Z7RrApLKhq_I",
        "outputId": "a6041b9a-cc3f-4e7e-c213-0a47af58341b"
      },
      "execution_count": null,
      "outputs": [
        {
          "output_type": "stream",
          "name": "stdout",
          "text": [
            "Telefonou para a vítima? Responda apenas com 's' ou 'n': q\n",
            "Por favor, responda com 's' para sim ou 'n' para não.\n",
            "Telefonou para a vítima? Responda apenas com 's' ou 'n': s\n",
            "Esteve no local do crime? Responda apenas com 's' ou 'n': n\n",
            "Mora perto da vítima? Responda apenas com 's' ou 'n': n\n",
            "Devia para a vítima? Responda apenas com 's' ou 'n': s\n",
            "Já trabalhou com a vítima? Responda apenas com 's' ou 'n': n\n",
            "Suspeita\n"
          ]
        }
      ]
    },
    {
      "cell_type": "markdown",
      "source": [
        "**26. Um posto está vendendo combustíveis com a seguinte tabela de descontos:**\n",
        "\n",
        "- Álcool: até 20 litros, desconto de 3% por litro acima de 20 litros, desconto de 5% por litro\n",
        "- Gasolina: até 20 litros, desconto de 4% por litro acima de 20 litros, desconto de 6% por litro\n",
        "\n",
        "Escreva um algoritmo que leia o número de litros vendidos, o tipo de combustível (codificado da seguinte forma: A-álcool, G-gasolina), calcule e imprima o valor a ser pago pelo cliente sabendo-se que o preço do litro da gasolina é `R$ 2,50 o preço do litro do álcool é R$ 1,90.`"
      ],
      "metadata": {
        "id": "HcFetaQ5XYEG"
      }
    },
    {
      "cell_type": "code",
      "source": [
        "while True:\n",
        "    tipo_combustivel = input(\"Álcool ou Gasolina? Responda apenas com 'A' ou 'G': \").upper()\n",
        "    if tipo_combustivel == 'A' or tipo_combustivel == 'G':\n",
        "        break\n",
        "    else:\n",
        "        print(\"Por favor, responda com 'A' para Álcool ou 'G' para Gasolina.\")\n",
        "\n",
        "litros = int(input(\"Informe a quantidade de litros vendidos: \"))\n",
        "preco_gasolina = 2.50\n",
        "preco_alcool = 1.90\n",
        "\n",
        "if tipo_combustivel == 'A':\n",
        "    if litros <= 20:\n",
        "        valor_total = litros * preco_alcool * (1 - 0.03)\n",
        "    else:\n",
        "        valor_total = litros * preco_alcool * (1 - 0.05)\n",
        "elif tipo_combustivel == 'G':\n",
        "    if litros <= 20:\n",
        "        valor_total = litros * preco_gasolina * (1 - 0.04)\n",
        "    else:\n",
        "        valor_total = litros * preco_gasolina * (1 - 0.06)\n",
        "\n",
        "print(f\"Valor a ser pago pelo cliente: R$ {valor_total:}\")"
      ],
      "metadata": {
        "id": "nKM9una6XoNf",
        "colab": {
          "base_uri": "https://localhost:8080/"
        },
        "outputId": "71a32bdf-18fb-4598-e0a5-14524cad35c0"
      },
      "execution_count": null,
      "outputs": [
        {
          "output_type": "stream",
          "name": "stdout",
          "text": [
            "Álcool ou Gasolina? Responda apenas com 'A' ou 'G': r\n",
            "Por favor, responda com 'A' para Álcool ou 'G' para Gasolina.\n",
            "Álcool ou Gasolina? Responda apenas com 'A' ou 'G': G\n",
            "Informe a quantidade de litros vendidos: 20\n",
            "Valor a ser pago pelo cliente: R$ 48.0\n"
          ]
        }
      ]
    },
    {
      "cell_type": "markdown",
      "source": [
        "**27. Uma fruteira está vendendo frutas com a seguinte tabela de preços:**\n",
        "\n",
        "![image.png](data:image/png;base64,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)\n",
        "\n",
        "Se o cliente comprar mais de 8 Kg em frutas ou o valor total da compra ultrapassar R$ 25,00, receberá ainda um desconto de 10% sobre este total. Escreva um algoritmo para ler a quantidade (em Kg) de morangos e a quantidade (em Kg) de maças adquiridas e escreva o valor a ser pago pelo cliente."
      ],
      "metadata": {
        "id": "JccUP7ocXsZV"
      }
    },
    {
      "cell_type": "code",
      "source": [],
      "metadata": {
        "id": "xp7JABp3X1C1"
      },
      "execution_count": null,
      "outputs": []
    },
    {
      "cell_type": "markdown",
      "source": [
        "**28. O Hipermercado Tabajara está com uma promoção de carnes que é imperdível. Confira:**\n",
        "\n",
        "![image.png](data:image/png;base64,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)\n",
        "\n",
        "**Para atender a todos os clientes, cada cliente poderá levar apenas um dos tipos de carne da promoção, porém não há limites para a quantidade de carne por cliente. Se compra for feita no cartão Tabajara o cliente receberá ainda um desconto de 5% sobre o total da compra. Escreva um programa que peça o tipo e a quantidade de carne comprada pelo usuário e gere um cupom fiscal, contendo as informações da compra: tipo e quantidade de carne, preço total, tipo de pagamento, valor do desconto e valor a pagar.**\n"
      ],
      "metadata": {
        "id": "cZn-zJIRX17O"
      }
    },
    {
      "cell_type": "code",
      "source": [],
      "metadata": {
        "id": "XgOJf_pxX-5a"
      },
      "execution_count": null,
      "outputs": []
    }
  ]
}