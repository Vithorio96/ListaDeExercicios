{
  "nbformat": 4,
  "nbformat_minor": 0,
  "metadata": {
    "colab": {
      "provenance": [],
      "authorship_tag": "ABX9TyPANOSo1Z8vfIWRkblMEKal",
      "include_colab_link": true
    },
    "kernelspec": {
      "name": "python3",
      "display_name": "Python 3"
    },
    "language_info": {
      "name": "python"
    }
  },
  "cells": [
    {
      "cell_type": "markdown",
      "metadata": {
        "id": "view-in-github",
        "colab_type": "text"
      },
      "source": [
        "<a href=\"https://colab.research.google.com/github/Vithorio96/ListaDeExercicios/blob/main/Estrutura_Sequencial.ipynb\" target=\"_parent\"><img src=\"https://colab.research.google.com/assets/colab-badge.svg\" alt=\"Open In Colab\"/></a>"
      ]
    },
    {
      "cell_type": "markdown",
      "source": [
        "https://wiki.python.org.br/EstruturaSequencial\n",
        "\n",
        "**Vithorio Dutra**\n",
        "\n",
        "**Estrutura Sequencial**"
      ],
      "metadata": {
        "id": "0on7fyQqp1SN"
      }
    },
    {
      "cell_type": "markdown",
      "source": [
        "**1. Faça um Programa que mostre a mensagem \"Alo mundo\" na tela.**"
      ],
      "metadata": {
        "id": "-Gd5kj0AA9wb"
      }
    },
    {
      "cell_type": "code",
      "source": [
        "print(\"Alo mundo\")"
      ],
      "metadata": {
        "colab": {
          "base_uri": "https://localhost:8080/"
        },
        "id": "ksIN8W2nBBe7",
        "outputId": "3838a5fc-7897-4881-bb6c-5a3eac72d7a4"
      },
      "execution_count": null,
      "outputs": [
        {
          "output_type": "stream",
          "name": "stdout",
          "text": [
            "Alo mundo\n"
          ]
        }
      ]
    },
    {
      "cell_type": "markdown",
      "source": [
        "**2. Faça um Programa que peça um número e então mostre a mensagem O número informado foi [número].**\n"
      ],
      "metadata": {
        "id": "RKN14QmJBIPk"
      }
    },
    {
      "cell_type": "code",
      "source": [
        "numero = input(\"Digite um número: \")\n",
        "print(\"O número informado foi\", numero)"
      ],
      "metadata": {
        "colab": {
          "base_uri": "https://localhost:8080/"
        },
        "id": "5FW_VqGEBToM",
        "outputId": "1a0f8f37-5410-440a-ff3b-b550f809b49a"
      },
      "execution_count": null,
      "outputs": [
        {
          "output_type": "stream",
          "name": "stdout",
          "text": [
            "Digite um número: 5\n",
            "O número informado foi 5\n"
          ]
        }
      ]
    },
    {
      "cell_type": "markdown",
      "source": [
        "**3. Faça um Programa que peça dois números e imprima a soma.**"
      ],
      "metadata": {
        "id": "BFGHdb8TEmF0"
      }
    },
    {
      "cell_type": "code",
      "source": [
        "numero1 = input(\"Digite o primeiro número: \")\n",
        "numero2 = input(\"Digite o segundo número: \")\n",
        "soma = int(numero1) + int(numero2)\n",
        "print(\"A soma dos números é\", soma)"
      ],
      "metadata": {
        "colab": {
          "base_uri": "https://localhost:8080/"
        },
        "id": "j_yIhT_tEorM",
        "outputId": "a17780da-d330-473f-ea70-bf79db157d08"
      },
      "execution_count": null,
      "outputs": [
        {
          "output_type": "stream",
          "name": "stdout",
          "text": [
            "Digite o primeiro número: 2\n",
            "Digite o segundo número: 2\n",
            "A soma dos números é 4\n"
          ]
        }
      ]
    },
    {
      "cell_type": "markdown",
      "source": [],
      "metadata": {
        "id": "t3VyBP6MgEif"
      }
    },
    {
      "cell_type": "markdown",
      "source": [
        "**4. Faça um Programa que peça as 4 notas bimestrais e mostre a média.**\n",
        "\n"
      ],
      "metadata": {
        "id": "HDVMH8aREy6-"
      }
    },
    {
      "cell_type": "code",
      "source": [
        "numero1 = input(\"Digite a primeira nota: \")\n",
        "numero2 = input(\"Digite a segunda nota: \")\n",
        "numero3 = input(\"Digite a terceira nota: \")\n",
        "numero4 = input(\"Digite a quarta nota: \")\n",
        "\n",
        "media = (float(numero1) + float(numero2) + float(numero3) + float(numero4)) / 4\n",
        "print(\"A média dos números é\", media)"
      ],
      "metadata": {
        "colab": {
          "base_uri": "https://localhost:8080/"
        },
        "id": "XFs71szKE0SV",
        "outputId": "0cc878b8-154a-4bd9-e5cc-c8a6beda61a7"
      },
      "execution_count": null,
      "outputs": [
        {
          "output_type": "stream",
          "name": "stdout",
          "text": [
            "Digite a primeira nota: 1.2\n",
            "Digite a segunda nota: 9.9\n",
            "Digite a terceira nota: 8.7\n",
            "Digite a quarta nota: 6.9\n",
            "A média dos números é 6.674999999999999\n"
          ]
        }
      ]
    },
    {
      "cell_type": "markdown",
      "source": [
        "\n",
        "**5. Faça um Programa que converta metros para centímetros.**"
      ],
      "metadata": {
        "id": "XPj8qRlvFpsF"
      }
    },
    {
      "cell_type": "code",
      "source": [
        "metros = float(input(\"Converta o valor em metro para cm\"))\n",
        "centrimetros = metros * 100\n",
        "print(centrimetros)\n"
      ],
      "metadata": {
        "colab": {
          "base_uri": "https://localhost:8080/"
        },
        "id": "n0IbNmuZFxdE",
        "outputId": "f7665056-000a-4eda-98a2-ecaf96cd4352"
      },
      "execution_count": null,
      "outputs": [
        {
          "output_type": "stream",
          "name": "stdout",
          "text": [
            "Converta o valor em metro para cm10\n",
            "1000.0\n"
          ]
        }
      ]
    },
    {
      "cell_type": "markdown",
      "source": [
        "**6. Faça um Programa que peça o raio de um círculo, calcule e mostre sua área.**\n"
      ],
      "metadata": {
        "id": "cK1Srql-GJIW"
      }
    },
    {
      "cell_type": "code",
      "source": [
        "# A=Pi * r^2\n",
        "import math # Para usar o Pi\n",
        "raio = float(input(\"Digite o valor do raio: \"))\n",
        "area = math.pi * (raio ** 2)\n",
        "print(area)"
      ],
      "metadata": {
        "colab": {
          "base_uri": "https://localhost:8080/"
        },
        "id": "JfpL6nEtGdNd",
        "outputId": "bd225866-e124-405c-8da7-a7d62caf2644"
      },
      "execution_count": null,
      "outputs": [
        {
          "output_type": "stream",
          "name": "stdout",
          "text": [
            "Digite o valor do raio: 10\n",
            "314.1592653589793\n"
          ]
        }
      ]
    },
    {
      "cell_type": "markdown",
      "source": [
        "**7. Faça um Programa que calcule a área de um quadrado, em seguida mostre o dobro desta área para o usuário.**\n"
      ],
      "metadata": {
        "id": "vWn5tbKBG_dG"
      }
    },
    {
      "cell_type": "code",
      "source": [
        "#A=L*L\n",
        "L = float(input(\"Digite o valor do lado: \"))\n",
        "area = L * L\n",
        "dobro = area * 2\n",
        "print(dobro)"
      ],
      "metadata": {
        "colab": {
          "base_uri": "https://localhost:8080/"
        },
        "id": "wZjgsXP7HAUE",
        "outputId": "0c1d5ba7-007e-4882-a652-01c84d6d6b11"
      },
      "execution_count": null,
      "outputs": [
        {
          "output_type": "stream",
          "name": "stdout",
          "text": [
            "Digite o valor do lado: 2\n",
            "8.0\n"
          ]
        }
      ]
    },
    {
      "cell_type": "markdown",
      "source": [
        "**8. Faça um Programa que pergunte quanto você ganha por hora e o número de horas trabalhadas no mês. Calcule e mostre o total do seu salário no referido mês.**\n"
      ],
      "metadata": {
        "id": "VYjWjzMgHTk1"
      }
    },
    {
      "cell_type": "code",
      "source": [
        "Valor_hora = float(input(\"Digite o valor da hora: \"))\n",
        "horas_trabalhadas = float(input(\"Digite o número de horas: \"))\n",
        "salario = Valor_hora * horas_trabalhadas\n",
        "print(\"O salario é: \",salario)"
      ],
      "metadata": {
        "colab": {
          "base_uri": "https://localhost:8080/"
        },
        "id": "V-89eRFLHUa2",
        "outputId": "233d6960-5af8-4082-e4cf-6fd8c86b5079"
      },
      "execution_count": null,
      "outputs": [
        {
          "output_type": "stream",
          "name": "stdout",
          "text": [
            "Digite o valor da hora: 14\n",
            "Digite o número de horas: 160\n",
            "O salario é:  2240.0\n"
          ]
        }
      ]
    },
    {
      "cell_type": "markdown",
      "source": [
        "**9. Faça um Programa que peça a temperatura em graus Fahrenheit, transforme e mostre a temperatura em graus Celsius.**\n",
        "\n",
        " C = 5 * ((F-32) / 9)."
      ],
      "metadata": {
        "id": "wKQajxvVIEa9"
      }
    },
    {
      "cell_type": "code",
      "source": [
        "t_Fahrenheit = float(input(\"Digite a temperatura em Fahrenheit: \"))\n",
        "t_Celsius = 5 * ((t_Fahrenheit-32) / 9)\n",
        "print(\"A temperatura em Celsius é: \",t_Celsius)"
      ],
      "metadata": {
        "colab": {
          "base_uri": "https://localhost:8080/"
        },
        "id": "TorLgoCSINpW",
        "outputId": "27ca6159-e8fc-4014-f22e-dd2e7ef05f7e"
      },
      "execution_count": null,
      "outputs": [
        {
          "output_type": "stream",
          "name": "stdout",
          "text": [
            "Digite a temperatura em Fahrenheit: 60\n",
            "A temperatura em Celsius é:  15.555555555555555\n"
          ]
        }
      ]
    },
    {
      "cell_type": "markdown",
      "source": [
        "**10. Faça um Programa que peça a temperatura em graus Celsius, transforme e mostre em graus Fahrenheit.**\n"
      ],
      "metadata": {
        "id": "_umthvOQIW49"
      }
    },
    {
      "cell_type": "code",
      "source": [
        "t_Celsius = float(input(\"Digite a temperatura em graus Celsius: \"))\n",
        "t_Fahrenheit = (9/5) * t_Celsius + 32\n",
        "print(\"A temperatura em graus Fahrenheit é:\", t_Fahrenheit)\n"
      ],
      "metadata": {
        "colab": {
          "base_uri": "https://localhost:8080/"
        },
        "id": "ER74F7bzIZ7s",
        "outputId": "d6337a89-86b2-4657-a2e8-11ff067716e3"
      },
      "execution_count": null,
      "outputs": [
        {
          "output_type": "stream",
          "name": "stdout",
          "text": [
            "Digite a temperatura em graus Celsius: 15.55\n",
            "A temperatura em graus Fahrenheit é: 59.99\n"
          ]
        }
      ]
    },
    {
      "cell_type": "markdown",
      "source": [
        "**11. Faça um Programa que peça 2 números inteiros e um número real. Calcule e mostre:**\n",
        "\n",
        "\n",
        "1.   O produto do dobro do primeiro com metade do segundo .\n",
        "2. A soma do triplo do primeiro com o terceiro.\n",
        "3. O terceiro elevado ao cubo.\n",
        "\n",
        "\n"
      ],
      "metadata": {
        "id": "rcaFz7ueIpR2"
      }
    },
    {
      "cell_type": "code",
      "source": [
        "numero1= int(input(\"Digite o primeiro número: \"))\n",
        "numero2= int(input(\"Digite o segundo número: \"))\n",
        "numero3= float(input(\"Digite o terceiro número: \"))\n",
        "\n",
        "#O produto do dobro do primeiro com metade do segundo .\n",
        "produto= (numero1 * 2) * (numero2/2)\n",
        "print(\"O produto do dobro do primeiro com metade do segundo é: \",produto)\n",
        "\n",
        "#A soma do triplo do primeiro com o terceiro.\n",
        "Soma= (numero1 * 3) + numero3\n",
        "print(\"A soma do triplo do primeiro com o terceiro é: \",Soma)\n",
        "\n",
        "#O terceiro elevado ao cubo.\n",
        "Elevado= numero3 ** 3\n",
        "print(\"O terceiro elevado ao cubo é: \",Elevado)\n"
      ],
      "metadata": {
        "colab": {
          "base_uri": "https://localhost:8080/"
        },
        "id": "_Dkq_eWjIp1L",
        "outputId": "bd6f5e51-214c-4e52-d267-d6a3332e147f"
      },
      "execution_count": null,
      "outputs": [
        {
          "output_type": "stream",
          "name": "stdout",
          "text": [
            "Digite o primeiro número: 4\n",
            "Digite o segundo número: 2\n",
            "Digite o terceiro número: 2.5\n",
            "O produto do dobro do primeiro com metade do segundo é:  8.0\n",
            "A soma do triplo do primeiro com o terceiro é:  14.5\n",
            "O terceiro elevado ao cubo é:  15.625\n"
          ]
        }
      ]
    },
    {
      "cell_type": "markdown",
      "source": [
        "**12. Tendo como dados de entrada a altura de uma pessoa, construa um algoritmo que calcule seu peso ideal, usando a seguinte fórmula:** (72.7*altura) - 58"
      ],
      "metadata": {
        "id": "aSRml4vBT9Uz"
      }
    },
    {
      "cell_type": "code",
      "source": [
        "altura= float(input(\"Digite a altura: \"))\n",
        "peso_ideal= (72.7*altura) - 58\n",
        "print(\"O peso ideal é: \",peso_ideal)"
      ],
      "metadata": {
        "colab": {
          "base_uri": "https://localhost:8080/"
        },
        "id": "ozZY04ahT-tO",
        "outputId": "548f6a7a-8cc4-4ff1-cf65-9e50bc4b7f75"
      },
      "execution_count": null,
      "outputs": [
        {
          "output_type": "stream",
          "name": "stdout",
          "text": [
            "Digite a altura: 1.80\n",
            "O peso ideal é:  72.86000000000001\n"
          ]
        }
      ]
    },
    {
      "cell_type": "markdown",
      "source": [
        "**13. Tendo como dado de entrada a altura (h) de uma pessoa, construa um algoritmo que calcule seu peso ideal, utilizando as seguintes fórmulas:**\n",
        "\n",
        "Para homens: (72.7*h) - 58\n",
        "\n",
        "Para mulheres: (62.1*h) - 44.7\n"
      ],
      "metadata": {
        "id": "arW9CRAqUM9L"
      }
    },
    {
      "cell_type": "code",
      "source": [
        "altura= float(input(\"Digite a altura: \"))\n",
        "peso_ideal_homem= (72.7*altura) - 58\n",
        "peso_ideal_mulher= (62.1*altura) - 44.7\n",
        "print(\"O peso ideal para homens é: \",peso_ideal_homem)\n",
        "print(\"O peso ideal para mulheres é: \",peso_ideal_mulher)"
      ],
      "metadata": {
        "colab": {
          "base_uri": "https://localhost:8080/"
        },
        "id": "NxFYGFl0UGCw",
        "outputId": "099b8e97-9e66-4b47-b4da-831bb5450bd0"
      },
      "execution_count": null,
      "outputs": [
        {
          "output_type": "stream",
          "name": "stdout",
          "text": [
            "Digite a altura: 1.80\n",
            "O peso ideal para homens é:  72.86000000000001\n",
            "O peso ideal para mulheres é:  67.08\n"
          ]
        }
      ]
    },
    {
      "cell_type": "markdown",
      "source": [
        "**14. João Papo-de-Pescador, homem de bem, comprou um microcomputador para controlar o rendimento diário de seu trabalho. Toda vez que ele traz um peso de peixes maior que o estabelecido pelo regulamento de pesca do estado de São Paulo (50 quilos) deve pagar uma multa de R$ 4,00 por quilo excedente. João precisa que você faça um programa que leia a variável peso (peso de peixes) e calcule o excesso. Gravar na variável excesso a quantidade de quilos além do limite e na variável multa o valor da multa que João deverá pagar. Imprima os dados do programa com as mensagens adequadas.**\n",
        "\n"
      ],
      "metadata": {
        "id": "N7DTTagoUa0s"
      }
    },
    {
      "cell_type": "code",
      "source": [
        "peso_peixe= float(input(\"Digite o peso do peixe: \"))\n",
        "if peso_peixe > 50:\n",
        "  excesso= peso_peixe - 50\n",
        "  multa= excesso * 4\n",
        "  print(\"O excesso é: \",excesso)\n",
        "  print(\"A multa é: \",multa)\n",
        "else:\n",
        "  print(\"Não há excesso\")"
      ],
      "metadata": {
        "colab": {
          "base_uri": "https://localhost:8080/"
        },
        "id": "J5e7LbaaUXj_",
        "outputId": "fd087c04-091f-4c0d-bb69-f4766bedd6da"
      },
      "execution_count": null,
      "outputs": [
        {
          "output_type": "stream",
          "name": "stdout",
          "text": [
            "Digite o peso do peixe: 55\n",
            "O excesso é:  5.0\n",
            "A multa é:  20.0\n"
          ]
        }
      ]
    },
    {
      "cell_type": "code",
      "source": [
        "peso_peixe= float(input(\"Digite o peso do peixe: \"))\n",
        "if peso_peixe > 50:\n",
        "  excesso= peso_peixe - 50\n",
        "  multa= excesso * 4\n",
        "  print(\"O excesso é: \",excesso)\n",
        "  print(\"A multa é: \",multa)\n",
        "else:\n",
        "  print(\"Não há excesso\")"
      ],
      "metadata": {
        "colab": {
          "base_uri": "https://localhost:8080/"
        },
        "id": "da5Yp8h8UwtM",
        "outputId": "036857a0-d350-40e5-c028-ef4b7029f0e2"
      },
      "execution_count": null,
      "outputs": [
        {
          "output_type": "stream",
          "name": "stdout",
          "text": [
            "Digite o peso do peixe: 45\n",
            "Não há excesso\n"
          ]
        }
      ]
    },
    {
      "cell_type": "markdown",
      "source": [
        "**15. Faça um Programa que pergunte quanto você ganha por hora e o número de horas trabalhadas no mês. Calcule e mostre o total do seu salário no referido mês, sabendo-se que são descontados 11% para o Imposto de Renda, 8% para o INSS e 5% para o sindicato, faça um programa que nos dê:**\n",
        "1. salário bruto.\n",
        "2. quanto pagou ao INSS.\n",
        "3. quanto pagou ao sindicato.\n",
        "4. o salário líquido.\n",
        "5. calcule os descontos e o salário líquido, conforme a tabela abaixo:\n",
        "\n",
        "![image.png](data:image/png;base64,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)\n",
        "\n",
        "Obs.: Salário Bruto - Descontos = Salário Líquido."
      ],
      "metadata": {
        "id": "RtVL6ppkZk6P"
      }
    },
    {
      "cell_type": "code",
      "source": [
        "ganho_por_hora= float(input(\"Digite o valor da hora: \"))\n",
        "horas_trabalhadas= float(input(\"Digite o número de horas: \"))\n",
        "salario_bruto= ganho_por_hora * horas_trabalhadas\n",
        "IR= salario_bruto * 0.11\n",
        "INSS= salario_bruto * 0.08\n",
        "Sindicato= salario_bruto * 0.05\n",
        "salario_liquido= salario_bruto - IR - INSS - Sindicato\n",
        "\n",
        "print(\"1. O salário bruto é: \",salario_bruto)\n",
        "print(\"2. Pagou ao INSS: \",INSS)\n",
        "print(\"3. Pagou ao sindicato: \",Sindicato)\n",
        "print(\"4. Descontos: \", IR + INSS + Sindicato)\n",
        "print(\"5. O salário líquido é: \",salario_liquido)\n",
        "\n"
      ],
      "metadata": {
        "colab": {
          "base_uri": "https://localhost:8080/"
        },
        "id": "tb7R_XR2ZtDI",
        "outputId": "7e2d4240-eb0c-49b7-a88e-1f02bbd47fdc"
      },
      "execution_count": null,
      "outputs": [
        {
          "output_type": "stream",
          "name": "stdout",
          "text": [
            "Digite o valor da hora: 10\n",
            "Digite o número de horas: 100\n",
            "1. O salário bruto é:  1000.0\n",
            "2. Pagou ao INSS:  80.0\n",
            "3. Pagou ao sindicato:  50.0\n",
            "4. Descontos:  240.0\n",
            "5. O salário líquido é:  760.0\n"
          ]
        }
      ]
    },
    {
      "cell_type": "markdown",
      "source": [
        "**16. Faça um programa para uma loja de tintas. O programa deverá pedir o tamanho em metros quadrados da área a ser pintada. Considere que a cobertura da tinta é de 1 litro para cada 3 metros quadrados e que a tinta é vendida em latas de 18 litros, que custam R$ 80,00. Informe ao usuário a quantidades de latas de tinta a serem compradas e o preço total.**"
      ],
      "metadata": {
        "id": "eKVpLrIodAGH"
      }
    },
    {
      "cell_type": "code",
      "source": [
        "área= float(input(\"Digite o tamanho em metros quadrados da área a ser pintada: \"))\n",
        "cobertura= 3\n",
        "litros_por_lata= 18\n",
        "preço_lata=80\n",
        "litros_necessarios= área / cobertura\n",
        "latas_necessárias= litros_necessarios / litros_por_lata\n",
        "preço_total= latas_necessárias * preço_lata\n",
        "print(\"A quantidades de latas de tinta a serem compradas: \",latas_necessárias)\n",
        "print(\"O preço total: \",preço_total)"
      ],
      "metadata": {
        "colab": {
          "base_uri": "https://localhost:8080/"
        },
        "id": "FgZJC8FzgVQp",
        "outputId": "76dd4a71-44ad-4059-a13c-e0a526fd263a"
      },
      "execution_count": null,
      "outputs": [
        {
          "output_type": "stream",
          "name": "stdout",
          "text": [
            "Digite o tamanho em metros quadrados da área a ser pintada: 140\n",
            "A quantidades de latas de tinta a serem compradas:  2.5925925925925926\n",
            "O preço total:  207.4074074074074\n"
          ]
        }
      ]
    },
    {
      "cell_type": "markdown",
      "source": [
        "**17. Faça um Programa para uma loja de tintas. O programa deverá pedir o tamanho em metros quadrados da área a ser pintada. Considere que a cobertura da tinta é de `1 litro` para cada `6 metros` quadrados e que a tinta é vendida em latas de `18 litros`, que custam `R$ 80,00` ou em galões de `3,6 litros`, que custam `R$ 25,00`.**\n",
        "\n",
        "**Informe ao usuário as quantidades de tin\\ta a serem compradas e os respectivos preços em 3 situações:**\n",
        "\n",
        "1. comprar apenas latas de 18 litros;\n",
        "2. comprar apenas galões de 3,6 litros;\n",
        "3. misturar latas e galões, de forma que o desperdício de tinta seja menor. Acrescente 10% de folga e sempre arredonde os valores para cima, isto é, considere latas cheias."
      ],
      "metadata": {
        "id": "j2Ld_B5SfYAB"
      }
    },
    {
      "cell_type": "code",
      "source": [
        "área= float(input(\"Digite o tamanho em metros quadrados da área a ser pintada: \"))\n",
        "\n",
        "cobertura= 6\n",
        "Litros_lata= 18\n",
        "Preço_lata= 80\n",
        "Litros_galão= 3.6\n",
        "Preço_galão= 25\n",
        "\n",
        "nescessario= área / cobertura\n",
        "#Comprar apenas latas de 18 litros;\n",
        "alternativa1= nescessario / Litros_lata\n",
        "preço_lata= alternativa1 * Preço_lata\n",
        "print(\"1. Comprar apenas latas de 18 litros: \",alternativa1)\n",
        "\n",
        "#Comprar apenas galões de 3,6 litros;\n",
        "alternativa2= nescessario / Litros_galão\n",
        "preço_galão= alternativa2 * Preço_galão\n",
        "print(\"2. Comprar apenas galões de 3,6 litros: \",alternativa2)\n",
        "\n",
        "#Misturar latas e galões, de forma que o desperdício de tinta seja menor. Acrescente 10% de folga e sempre arredonde os valores para cima, isto é, considere latas cheias.\n",
        "alternativa3 = nescessario / (Litros_lata + Litros_galão)+ 0.1*(nescessario)\n",
        "preço_mistura= alternativa3 * (Preço_lata + Preço_galão)\n",
        "print(\"3. Misturar latas e galões: \", alternativa3)\n"
      ],
      "metadata": {
        "colab": {
          "base_uri": "https://localhost:8080/"
        },
        "id": "zYZcO6v3fiCg",
        "outputId": "bb48ab93-4dab-4ed2-c117-cd0d3255f35d"
      },
      "execution_count": null,
      "outputs": [
        {
          "output_type": "stream",
          "name": "stdout",
          "text": [
            "Digite o tamanho em metros quadrados da área a ser pintada: 100\n",
            "1. Comprar apenas latas de 18 litros:  0.925925925925926\n",
            "2. Comprar apenas galões de 3,6 litros:  4.62962962962963\n",
            "3. Misturar latas e galões:  2.4382716049382718\n"
          ]
        }
      ]
    }
  ]
}