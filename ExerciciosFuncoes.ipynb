{
  "nbformat": 4,
  "nbformat_minor": 0,
  "metadata": {
    "colab": {
      "provenance": [],
      "authorship_tag": "ABX9TyNnG9XJlpXz8ZI7nyyQ3dAN"
    },
    "kernelspec": {
      "name": "python3",
      "display_name": "Python 3"
    },
    "language_info": {
      "name": "python"
    }
  },
  "cells": [
    {
      "cell_type": "markdown",
      "source": [
        "**1. Faça um programa para imprimir:**\n",
        "```\n",
        "    1\n",
        "    2   2\n",
        "    3   3   3\n",
        "    .....\n",
        "    n   n   n   n   n   n  ... n\n",
        "```"
      ],
      "metadata": {
        "id": "nqkdgoSIFkvi"
      }
    },
    {
      "cell_type": "code",
      "source": [
        "def imprimir(n):\n",
        "  for i in range(1, n+1):# começa em 1 e pula de n+1 em diante\n",
        "    print((str(i)+ \" \")*i)\n",
        "n = int(input(\"numero de linhas: \"))\n",
        "imprimir(n)"
      ],
      "metadata": {
        "colab": {
          "base_uri": "https://localhost:8080/"
        },
        "id": "XGuwv9aFI-jL",
        "outputId": "072b6f08-5e1c-4c07-faac-e6d07bc6842e"
      },
      "execution_count": null,
      "outputs": [
        {
          "output_type": "stream",
          "name": "stdout",
          "text": [
            "numero de linhas: 15\n",
            "1 \n",
            "2 2 \n",
            "3 3 3 \n",
            "4 4 4 4 \n",
            "5 5 5 5 5 \n",
            "6 6 6 6 6 6 \n",
            "7 7 7 7 7 7 7 \n",
            "8 8 8 8 8 8 8 8 \n",
            "9 9 9 9 9 9 9 9 9 \n",
            "10 10 10 10 10 10 10 10 10 10 \n",
            "11 11 11 11 11 11 11 11 11 11 11 \n",
            "12 12 12 12 12 12 12 12 12 12 12 12 \n",
            "13 13 13 13 13 13 13 13 13 13 13 13 13 \n",
            "14 14 14 14 14 14 14 14 14 14 14 14 14 14 \n",
            "15 15 15 15 15 15 15 15 15 15 15 15 15 15 15 \n"
          ]
        }
      ]
    },
    {
      "cell_type": "markdown",
      "source": [
        "**8. Faça uma função que informe a quantidade de dígitos de um determinado número inteiro informado.**\n"
      ],
      "metadata": {
        "id": "B2N7XQ-LGRTx"
      }
    },
    {
      "cell_type": "code",
      "source": [
        "def contar(d): # funçao\n",
        "  return len(str(d)) # Retornar o comprimento da str\n",
        "d = int(input(\"Número inteiro: \")) #Entrada do usuario\n",
        "print(contar(d)) #Retornar a funçao"
      ],
      "metadata": {
        "colab": {
          "base_uri": "https://localhost:8080/"
        },
        "id": "fFhMFtSJGcX2",
        "outputId": "504865e8-7ccc-4bbf-a8c2-7325cc5479bf"
      },
      "execution_count": null,
      "outputs": [
        {
          "output_type": "stream",
          "name": "stdout",
          "text": [
            "Número inteiro: 123456789012345678901234567890\n",
            "30\n"
          ]
        }
      ]
    },
    {
      "cell_type": "markdown",
      "source": [
        "**9. Reverso do número. Faça uma função que retorne o reverso de um número inteiro informado. Por exemplo: 127 -> 721.**"
      ],
      "metadata": {
        "id": "1w7NPRlIGc95"
      }
    },
    {
      "cell_type": "code",
      "source": [
        "def reverso(r):\n",
        "  return int(str(r)[::-1])\n",
        "r = int(input(\"Reverso do número: \"))\n",
        "print(reverso(r))"
      ],
      "metadata": {
        "colab": {
          "base_uri": "https://localhost:8080/"
        },
        "id": "PGKiJsNnGdhT",
        "outputId": "d2a2ffbf-61e4-46e9-dd85-fd4b8b389de9"
      },
      "execution_count": null,
      "outputs": [
        {
          "output_type": "stream",
          "name": "stdout",
          "text": [
            "Reverso do número: 2024\n",
            "4202\n"
          ]
        }
      ]
    },
    {
      "cell_type": "markdown",
      "source": [
        "**12. Embaralha palavra. Construa uma função que receba uma string como parâmetro e devolva outra string com os carateres embaralhados. Por exemplo: se função receber a palavra python, pode retornar npthyo, ophtyn ou qualquer outra combinação possível, de forma aleatória. Padronize em sua função que todos os caracteres serão devolvidos em caixa alta ou caixa baixa, independentemente de como foram digitados.**"
      ],
      "metadata": {
        "id": "qOiym16xGhEX"
      }
    },
    {
      "cell_type": "code",
      "source": [
        "import random\n",
        "\n",
        "def embaralhar(E):\n",
        "  E = E.lower()\n",
        "  embaralhado = ''.join(random.sample(E, len(E)))\n",
        "  return embaralhado\n",
        "\n",
        "E= input(\"Palavra: \")\n",
        "\n",
        "for i in range(5):\n",
        "  E = embaralhar(E)\n",
        "  print(E)\n"
      ],
      "metadata": {
        "colab": {
          "base_uri": "https://localhost:8080/"
        },
        "id": "oosUiVmlGrj2",
        "outputId": "3a2c891e-96cb-42aa-f718-15bab753cc6b"
      },
      "execution_count": null,
      "outputs": [
        {
          "output_type": "stream",
          "name": "stdout",
          "text": [
            "Palavra: Python\n",
            "nythpo\n",
            "ohptyn\n",
            "typhon\n",
            "opntyh\n",
            "opyhnt\n"
          ]
        }
      ]
    },
    {
      "cell_type": "markdown",
      "source": [
        "**13. Desenha moldura. Construa uma função que desenhe um retângulo usando os caracteres`` ‘+’ , ‘−’ e ‘| ‘``. Esta função deve receber dois parâmetros, linhas e colunas, sendo que o valor por omissão é o valor mínimo igual a 1 e o valor máximo é 20. Se valores fora da faixa forem informados, eles devem ser modificados para valores dentro da faixa de forma elegante.**"
      ],
      "metadata": {
        "id": "5hny2UvCGsQh"
      }
    },
    {
      "cell_type": "code",
      "source": [
        "def moldura(linhas=1, colunas=1):\n",
        "  linhas = max(1, min(linhas, 20))\n",
        "  colunas = max(1, min(colunas, 20))\n",
        "  for i in range(linhas):\n",
        "    if i == 0 or i == linhas -1:\n",
        "      print('+' + '-' * (colunas - 2) + '+')\n",
        "    else:\n",
        "      print('|' + ' ' * (colunas - 2) + '|')\n",
        "moldura(10, 20)"
      ],
      "metadata": {
        "colab": {
          "base_uri": "https://localhost:8080/"
        },
        "id": "ukrDS8w2Xryu",
        "outputId": "aa4b8c87-48b7-4402-9074-884faca857c4"
      },
      "execution_count": null,
      "outputs": [
        {
          "output_type": "stream",
          "name": "stdout",
          "text": [
            "+------------------+\n",
            "|                  |\n",
            "|                  |\n",
            "|                  |\n",
            "|                  |\n",
            "|                  |\n",
            "|                  |\n",
            "|                  |\n",
            "|                  |\n",
            "+------------------+\n"
          ]
        }
      ]
    }
  ]
}