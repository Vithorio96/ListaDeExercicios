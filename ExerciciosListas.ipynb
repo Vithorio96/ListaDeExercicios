{
  "nbformat": 4,
  "nbformat_minor": 0,
  "metadata": {
    "colab": {
      "provenance": [],
      "authorship_tag": "ABX9TyNlCuXwnltp22PXckVBuvzX"
    },
    "kernelspec": {
      "name": "python3",
      "display_name": "Python 3"
    },
    "language_info": {
      "name": "python"
    }
  },
  "cells": [
    {
      "cell_type": "markdown",
      "source": [
        "**Faça um Programa que leia um vetor de 5 números reais e mostre-os na ordem inversa.**"
      ],
      "metadata": {
        "id": "fHS0Cpp-DOyO"
      }
    },
    {
      "cell_type": "code",
      "source": [
        "vetor = []\n",
        "\n",
        "for i in range(5):\n",
        "  nume= int(input(f'Digite o {i+1}º vetor: '))\n",
        "  vetor.append(nume)\n",
        "print('Ordem inversa: ')\n",
        "for num in reversed(vetor):\n",
        "  print(num)"
      ],
      "metadata": {
        "colab": {
          "base_uri": "https://localhost:8080/"
        },
        "id": "Or2AWazdGxKu",
        "outputId": "9927fbbc-ffaf-4cd9-d48d-6a9b9fb9b58e"
      },
      "execution_count": null,
      "outputs": [
        {
          "output_type": "stream",
          "name": "stdout",
          "text": [
            "Digite o 1º vetor: 1\n",
            "Digite o 2º vetor: 2\n",
            "Digite o 3º vetor: 3\n",
            "Digite o 4º vetor: 4\n",
            "Digite o 5º vetor: 5\n",
            "Ordem inversa: \n",
            "5\n",
            "4\n",
            "3\n",
            "2\n",
            "1\n"
          ]
        }
      ]
    },
    {
      "cell_type": "markdown",
      "source": [
        "**Faça um Programa que leia um vetor de 6 caracteres, e diga quantas consoantes foram lidas. Imprima as consoantes.**\n",
        "Teste: P Y T H O N\n"
      ],
      "metadata": {
        "id": "V0zgbddGDQBf"
      }
    },
    {
      "cell_type": "code",
      "source": [
        "from collections import Counter\n",
        "vector= input('Digite uma letra: ')\n",
        "vector1= input('Digite outra letra: ')\n",
        "vector2= input('Digite outra letra: ')\n",
        "vector3= input('Digite outra letra: ')\n",
        "vector4= input('Digite outra letra: ')\n",
        "vector5= input('Digite outra letra: ')\n",
        "\n",
        "vetor = [vector,vector1,vector2,vector3,vector4,vector5]\n",
        "\n",
        "consoantes = []\n",
        "\n",
        "for i in vetor:\n",
        "  if i.lower() not in ['a', 'e', 'i', 'o', 'u']:\n",
        "    consoantes.append(i)\n",
        "consoante_count = len(consoantes)\n",
        "\n",
        "print(f\"Número de consoantes: {consoante_count}\")\n",
        "print(\"Consoantes lidas:\", ' '.join(consoantes))"
      ],
      "metadata": {
        "colab": {
          "base_uri": "https://localhost:8080/"
        },
        "id": "okemoPgnNZK_",
        "outputId": "59662e99-e2fc-488b-a994-830774f91403"
      },
      "execution_count": null,
      "outputs": [
        {
          "output_type": "stream",
          "name": "stdout",
          "text": [
            "Digite uma letra: P\n",
            "Digite outra letra: y\n",
            "Digite outra letra: t\n",
            "Digite outra letra: h\n",
            "Digite outra letra: o\n",
            "Digite outra letra: n\n",
            "Número de consoantes: 5\n",
            "Consoantes lidas: P y t h n\n"
          ]
        }
      ]
    },
    {
      "cell_type": "markdown",
      "source": [
        "**Faça um Programa que peça as quatro notas de 10 alunos, calcule e armazene num vetor a média de cada aluno, imprima o número de alunos com média maior ou igual a 7.0.**\n"
      ],
      "metadata": {
        "id": "B71GZ7WkDTHO"
      }
    },
    {
      "cell_type": "code",
      "source": [
        "medias = []\n",
        "\n",
        "for i in range(10):\n",
        "    print(f\"Aluno {i+1}:\")\n",
        "    notas = []\n",
        "\n",
        "    for j in range(4):\n",
        "        nota = float(input(f\"Digite a {j+1}ª nota: \"))\n",
        "        notas.append(nota)\n",
        "\n",
        "    media = sum(notas) / len(notas)\n",
        "    medias.append(media)\n",
        "\n",
        "alunos_acima_de_7 = sum(1 for media in medias if media >= 7.0)\n",
        "print(f\"\\nNúmero de alunos com média maior ou igual a 7.0: {alunos_acima_de_7}\")\n"
      ],
      "metadata": {
        "colab": {
          "base_uri": "https://localhost:8080/"
        },
        "id": "cbPJDMyFSyXc",
        "outputId": "b0b6e201-ffe3-424d-afbd-b345c8795f54"
      },
      "execution_count": null,
      "outputs": [
        {
          "output_type": "stream",
          "name": "stdout",
          "text": [
            "Aluno 1:\n",
            "Digite a 1ª nota: 9\n",
            "Digite a 2ª nota: 8\n",
            "Digite a 3ª nota: 7\n",
            "Digite a 4ª nota: 8\n",
            "Aluno 2:\n",
            "Digite a 1ª nota: 9\n",
            "Digite a 2ª nota: 10\n",
            "Digite a 3ª nota: 9\n",
            "Digite a 4ª nota: 10\n",
            "Aluno 3:\n",
            "Digite a 1ª nota: 9\n",
            "Digite a 2ª nota: 10\n",
            "Digite a 3ª nota: 8\n",
            "Digite a 4ª nota: 10\n",
            "Aluno 4:\n",
            "Digite a 1ª nota: 5\n",
            "Digite a 2ª nota: 4\n",
            "Digite a 3ª nota: 6\n",
            "Digite a 4ª nota: 5\n",
            "Aluno 5:\n",
            "Digite a 1ª nota: 10\n",
            "Digite a 2ª nota: 9\n",
            "Digite a 3ª nota: 9\n",
            "Digite a 4ª nota: 10\n",
            "Aluno 6:\n",
            "Digite a 1ª nota: 4\n",
            "Digite a 2ª nota: 8\n",
            "Digite a 3ª nota: 6\n",
            "Digite a 4ª nota: 1\n",
            "Aluno 7:\n",
            "Digite a 1ª nota: 10\n",
            "Digite a 2ª nota: 1\n",
            "Digite a 3ª nota: 5\n",
            "Digite a 4ª nota: 9\n",
            "Aluno 8:\n",
            "Digite a 1ª nota: 10\n",
            "Digite a 2ª nota: 1\n",
            "Digite a 3ª nota: 5\n",
            "Digite a 4ª nota: 3\n",
            "Aluno 9:\n",
            "Digite a 1ª nota: 9\n",
            "Digite a 2ª nota: 5\n",
            "Digite a 3ª nota: 2\n",
            "Digite a 4ª nota: 1\n",
            "Aluno 10:\n",
            "Digite a 1ª nota: 1\n",
            "Digite a 2ª nota: 2\n",
            "Digite a 3ª nota: 5\n",
            "Digite a 4ª nota: 4\n",
            "\n",
            "Número de alunos com média maior ou igual a 7.0: 4\n"
          ]
        }
      ]
    },
    {
      "cell_type": "markdown",
      "source": [
        "**Faça um Programa que peça a idade e a altura de 5 pessoas, armazene cada informação no seu respectivo vetor. Imprima a idade e a altura na ordem inversa a ordem lida.**\n"
      ],
      "metadata": {
        "id": "iyBAS1s8DXMX"
      }
    },
    {
      "cell_type": "code",
      "source": [
        "idades = []\n",
        "alturas = []\n",
        "\n",
        "for i in range(5):\n",
        "    print(f\"Pessoa {i+1}:\")\n",
        "    idade = int(input(\"Digite a idade: \"))\n",
        "    altura = float(input(\"Digite a altura em centímetros: \"))\n",
        "    idades.append(idade)\n",
        "    alturas.append(altura)\n",
        "\n",
        "print(\"\\nIdades e alturas:\")\n",
        "for i in range(5):\n",
        "    print(f\"Pessoa {i+1}: Idade = {idades[i]} anos, Altura = {alturas[i]} cm\")\n",
        "\n",
        "print(\"\\nIdades e alturas na ordem inversa:\")\n",
        "for i in range(4, -1, -1):\n",
        "    print(f\"Pessoa {i+1}: Idade = {idades[i]} anos, Altura = {alturas[i]} cm\")"
      ],
      "metadata": {
        "colab": {
          "base_uri": "https://localhost:8080/"
        },
        "id": "18uyzfZbVw_7",
        "outputId": "22665ff0-f71b-48d3-f35d-c1a7380c9059"
      },
      "execution_count": null,
      "outputs": [
        {
          "output_type": "stream",
          "name": "stdout",
          "text": [
            "Pessoa 1:\n",
            "Digite a idade: 18\n",
            "Digite a altura em centímetros: 170\n",
            "Pessoa 2:\n",
            "Digite a idade: 19\n",
            "Digite a altura em centímetros: 171\n",
            "Pessoa 3:\n",
            "Digite a idade: 25\n",
            "Digite a altura em centímetros: 180\n",
            "Pessoa 4:\n",
            "Digite a idade: 12\n",
            "Digite a altura em centímetros: 110\n",
            "Pessoa 5:\n",
            "Digite a idade: 13\n",
            "Digite a altura em centímetros: 140\n",
            "\n",
            "Idades e alturas:\n",
            "Pessoa 1: Idade = 18 anos, Altura = 170.0 cm\n",
            "Pessoa 2: Idade = 19 anos, Altura = 171.0 cm\n",
            "Pessoa 3: Idade = 25 anos, Altura = 180.0 cm\n",
            "Pessoa 4: Idade = 12 anos, Altura = 110.0 cm\n",
            "Pessoa 5: Idade = 13 anos, Altura = 140.0 cm\n",
            "\n",
            "Idades e alturas na ordem inversa:\n",
            "Pessoa 5: Idade = 13 anos, Altura = 140.0 cm\n",
            "Pessoa 4: Idade = 12 anos, Altura = 110.0 cm\n",
            "Pessoa 3: Idade = 25 anos, Altura = 180.0 cm\n",
            "Pessoa 2: Idade = 19 anos, Altura = 171.0 cm\n",
            "Pessoa 1: Idade = 18 anos, Altura = 170.0 cm\n"
          ]
        }
      ]
    },
    {
      "cell_type": "markdown",
      "source": [
        "**Faça um Programa que leia dois vetores com 10 elementos cada. Gere um terceiro vetor de 20 elementos, cujos valores deverão ser compostos pelos elementos intercalados dos dois outros vetores.**\n"
      ],
      "metadata": {
        "id": "ox7vP-QKDhBV"
      }
    },
    {
      "cell_type": "code",
      "source": [
        "vet1 =[]\n",
        "vet2 =[]\n",
        "\n",
        "for i in range (10):\n",
        "  elementos= int(input(f'{i+1} elemento: '))\n",
        "  vet1.append(elementos)\n",
        "for i in range(10):\n",
        "  elementos= int(input(f'{i+1} elemento: '))\n",
        "  vet2.append(elementos)\n",
        "vet3 = []\n",
        "for i in range(10):\n",
        "  vet3.append(vet1[i])\n",
        "  vet3.append(vet2[i])\n",
        "print(vet1)\n",
        "print(\" \")\n",
        "print(vet2)\n",
        "print(\" \")\n",
        "print(vet3)"
      ],
      "metadata": {
        "colab": {
          "base_uri": "https://localhost:8080/"
        },
        "id": "Oahst0AMDZcY",
        "outputId": "6abb8237-7df3-4b35-e0e7-5bc0c575b5b2"
      },
      "execution_count": null,
      "outputs": [
        {
          "output_type": "stream",
          "name": "stdout",
          "text": [
            "1 elemento: 1\n",
            "2 elemento: 3\n",
            "3 elemento: 5\n",
            "4 elemento: 7\n",
            "5 elemento: 9\n",
            "6 elemento: 11\n",
            "7 elemento: 13\n",
            "8 elemento: 15\n",
            "9 elemento: 17\n",
            "10 elemento: 19\n",
            "1 elemento: 2\n",
            "2 elemento: 4\n",
            "3 elemento: 6\n",
            "4 elemento: 8\n",
            "5 elemento: 10\n",
            "6 elemento: 12\n",
            "7 elemento: 14\n",
            "8 elemento: 16\n",
            "9 elemento: 18\n",
            "10 elemento: 20\n",
            "[1, 3, 5, 7, 9, 11, 13, 15, 17, 19]\n",
            " \n",
            "[2, 4, 6, 8, 10, 12, 14, 16, 18, 20]\n",
            " \n",
            "[1, 2, 3, 4, 5, 6, 7, 8, 9, 10, 11, 12, 13, 14, 15, 16, 17, 18, 19, 20]\n"
          ]
        }
      ]
    },
    {
      "cell_type": "markdown",
      "source": [
        "**Utilizando listas faça um programa que faça 5 perguntas para uma pessoa sobre um crime. As perguntas são:**\n",
        "```\n",
        "- \"Telefonou para a vítima?\"\n",
        "- \"Esteve no local do crime?\"\n",
        "- \"Mora perto da vítima?\"\n",
        "- \"Devia para a vítima?\"\n",
        "- \"Já trabalhou com a vítima?\"\n",
        "```\n",
        "\n",
        "**O programa deve no final emitir uma classificação sobre a participação da pessoa no crime. Se a pessoa responder positivamente a 2 questões ela deve ser classificada como \"Suspeita\", entre 3 e 4 como \"Cúmplice\" e 5 como \"Assassino\". Caso contrário, ele será classificado como \"Inocente\".**\n"
      ],
      "metadata": {
        "id": "Ftp5NZHCDeRF"
      }
    },
    {
      "cell_type": "code",
      "source": [
        "#criaçao de uma lista para as perguntas\n",
        "perguntas= [\n",
        "      \"Telefonou para a vítima?\",\n",
        "      \"Esteve no local do crime?\",\n",
        "      \"Mora perto da vítima?\",\n",
        "      \"Devia para a vítima?\",\n",
        "      \"Já trabalhou com a vítima?\",\n",
        "  ]\n",
        "respostas = []\n",
        "\n",
        "for pergunta in perguntas:\n",
        "  resposta = input(pergunta + \" (S/N): \")\n",
        "  respostas.append(resposta)\n",
        "\n",
        "respostas_positivas = respostas.count(\"S\")\n",
        "\n",
        "if respostas_positivas == 0:\n",
        "  classificacao = \"Inocente\"\n",
        "elif respostas_positivas == 1 or respostas_positivas == 2:\n",
        "  classificacao = \"Suspeita\"\n",
        "elif respostas_positivas == 3 or respostas_positivas == 4:\n",
        "  classificacao = \"Cúmplice\"\n",
        "elif respostas_positivas == 5:\n",
        "  sssclassificacao = \"Assassino\"\n",
        "\n",
        "print(\"Classificação:\", classificacao)"
      ],
      "metadata": {
        "colab": {
          "base_uri": "https://localhost:8080/"
        },
        "id": "vGMgNQxWDe7g",
        "outputId": "8278a323-7431-40ee-a9e6-617b4b778136"
      },
      "execution_count": null,
      "outputs": [
        {
          "output_type": "stream",
          "name": "stdout",
          "text": [
            "Telefonou para a vítima? (S/N): S\n",
            "Esteve no local do crime? (S/N): S\n",
            "Mora perto da vítima? (S/N): S\n",
            "Devia para a vítima? (S/N): S\n",
            "Já trabalhou com a vítima? (S/N): S\n",
            "Classificação: Cúmplice\n"
          ]
        }
      ]
    }
  ]
}